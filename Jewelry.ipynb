{
 "cells": [
  {
   "cell_type": "markdown",
   "id": "8b42159c-3407-4304-ad12-0ff300bcbd4c",
   "metadata": {},
   "source": [
    "### Methodology\n",
    "\n",
    "The methodology we will be deploying for this our analysis is called the CRIP-DM(Cross industry standard process for data mining) methodology;\n",
    "\n",
    "1. Business Understanding\n",
    "2. Data Understanding\n",
    "3. Data Preparation.\n",
    "4. Data Modelling\n",
    "5. Model Evaluation and \n",
    "6. Model Deployment"
   ]
  },
  {
   "cell_type": "markdown",
   "id": "d7ba83a1-e60c-44d9-a042-502f96b81bff",
   "metadata": {},
   "source": [
    "### Import Required Libraries"
   ]
  },
  {
   "cell_type": "code",
   "execution_count": 40,
   "id": "5f93c734-13b0-4a2a-a3c0-828ca48a7191",
   "metadata": {},
   "outputs": [],
   "source": [
    "import pandas as pd\n",
    "import numpy as np\n",
    "import matplotlib.pyplot as plt\n",
    "import seaborn as sns\n",
    "\n",
    "#set visualization\n",
    "sns.set()"
   ]
  },
  {
   "cell_type": "code",
   "execution_count": 41,
   "id": "42d1ff63-ead8-44f3-833a-1c486ce09a71",
   "metadata": {},
   "outputs": [],
   "source": [
    "# Load in Data Set\n",
    "df = pd.read_csv(\"Jewelry_Dataset.csv\")\n",
    "\n",
    "df.columns = [\n",
    "    \"Order_Datetime\",\n",
    "    \"Order_ID\",\n",
    "    \"Product_ID\",\n",
    "    \"SKU_Quality\",\n",
    "    \"Category_ID\",\n",
    "    \"Category\",\n",
    "    \"Brand_ID\",\n",
    "    \"Price_USD\",\n",
    "    \"User_ID\",\n",
    "    \"Target_Gender\",\n",
    "    \"Main_Color\",\n",
    "    \"Main_Metal\",\n",
    "    \"Main_Gem\",\n",
    "\n",
    "]"
   ]
  },
  {
   "cell_type": "code",
   "execution_count": 42,
   "id": "d5c2622c-3c7f-4671-9739-a950e230065c",
   "metadata": {},
   "outputs": [
    {
     "data": {
      "text/html": [
       "<div>\n",
       "<style scoped>\n",
       "    .dataframe tbody tr th:only-of-type {\n",
       "        vertical-align: middle;\n",
       "    }\n",
       "\n",
       "    .dataframe tbody tr th {\n",
       "        vertical-align: top;\n",
       "    }\n",
       "\n",
       "    .dataframe thead th {\n",
       "        text-align: right;\n",
       "    }\n",
       "</style>\n",
       "<table border=\"1\" class=\"dataframe\">\n",
       "  <thead>\n",
       "    <tr style=\"text-align: right;\">\n",
       "      <th></th>\n",
       "      <th>Order_Datetime</th>\n",
       "      <th>Order_ID</th>\n",
       "      <th>Product_ID</th>\n",
       "      <th>SKU_Quality</th>\n",
       "      <th>Category_ID</th>\n",
       "      <th>Category</th>\n",
       "      <th>Brand_ID</th>\n",
       "      <th>Price_USD</th>\n",
       "      <th>User_ID</th>\n",
       "      <th>Target_Gender</th>\n",
       "      <th>Main_Color</th>\n",
       "      <th>Main_Metal</th>\n",
       "      <th>Main_Gem</th>\n",
       "    </tr>\n",
       "  </thead>\n",
       "  <tbody>\n",
       "    <tr>\n",
       "      <th>0</th>\n",
       "      <td>2018-12-01 17:38:31 UTC</td>\n",
       "      <td>1924899396621697920</td>\n",
       "      <td>1806829193678291446</td>\n",
       "      <td>1</td>\n",
       "      <td>1.806829e+18</td>\n",
       "      <td>NaN</td>\n",
       "      <td>NaN</td>\n",
       "      <td>212.14</td>\n",
       "      <td>1.515916e+18</td>\n",
       "      <td>NaN</td>\n",
       "      <td>yellow</td>\n",
       "      <td>gold</td>\n",
       "      <td>NaN</td>\n",
       "    </tr>\n",
       "    <tr>\n",
       "      <th>1</th>\n",
       "      <td>2018-12-02 13:53:42 UTC</td>\n",
       "      <td>1925511016616034733</td>\n",
       "      <td>1842214461889315556</td>\n",
       "      <td>1</td>\n",
       "      <td>1.806829e+18</td>\n",
       "      <td>jewelry.pendant</td>\n",
       "      <td>1.0</td>\n",
       "      <td>54.66</td>\n",
       "      <td>1.515916e+18</td>\n",
       "      <td>f</td>\n",
       "      <td>white</td>\n",
       "      <td>gold</td>\n",
       "      <td>sapphire</td>\n",
       "    </tr>\n",
       "    <tr>\n",
       "      <th>2</th>\n",
       "      <td>2018-12-02 17:44:02 UTC</td>\n",
       "      <td>1925626951238681511</td>\n",
       "      <td>1835566849434059453</td>\n",
       "      <td>1</td>\n",
       "      <td>1.806829e+18</td>\n",
       "      <td>jewelry.pendant</td>\n",
       "      <td>0.0</td>\n",
       "      <td>88.90</td>\n",
       "      <td>1.515916e+18</td>\n",
       "      <td>f</td>\n",
       "      <td>red</td>\n",
       "      <td>gold</td>\n",
       "      <td>diamond</td>\n",
       "    </tr>\n",
       "    <tr>\n",
       "      <th>3</th>\n",
       "      <td>2018-12-02 21:30:19 UTC</td>\n",
       "      <td>1925740842841014667</td>\n",
       "      <td>1873936840742928865</td>\n",
       "      <td>1</td>\n",
       "      <td>1.806829e+18</td>\n",
       "      <td>jewelry.necklace</td>\n",
       "      <td>0.0</td>\n",
       "      <td>417.67</td>\n",
       "      <td>1.515916e+18</td>\n",
       "      <td>NaN</td>\n",
       "      <td>red</td>\n",
       "      <td>gold</td>\n",
       "      <td>amethyst</td>\n",
       "    </tr>\n",
       "    <tr>\n",
       "      <th>4</th>\n",
       "      <td>2018-12-02 22:09:34 UTC</td>\n",
       "      <td>1925760595336888995</td>\n",
       "      <td>1835566854827934449</td>\n",
       "      <td>1</td>\n",
       "      <td>1.806829e+18</td>\n",
       "      <td>jewelry.earring</td>\n",
       "      <td>1.0</td>\n",
       "      <td>102.27</td>\n",
       "      <td>1.515916e+18</td>\n",
       "      <td>NaN</td>\n",
       "      <td>red</td>\n",
       "      <td>gold</td>\n",
       "      <td>NaN</td>\n",
       "    </tr>\n",
       "  </tbody>\n",
       "</table>\n",
       "</div>"
      ],
      "text/plain": [
       "            Order_Datetime             Order_ID           Product_ID  \\\n",
       "0  2018-12-01 17:38:31 UTC  1924899396621697920  1806829193678291446   \n",
       "1  2018-12-02 13:53:42 UTC  1925511016616034733  1842214461889315556   \n",
       "2  2018-12-02 17:44:02 UTC  1925626951238681511  1835566849434059453   \n",
       "3  2018-12-02 21:30:19 UTC  1925740842841014667  1873936840742928865   \n",
       "4  2018-12-02 22:09:34 UTC  1925760595336888995  1835566854827934449   \n",
       "\n",
       "   SKU_Quality   Category_ID          Category  Brand_ID  Price_USD  \\\n",
       "0            1  1.806829e+18               NaN       NaN     212.14   \n",
       "1            1  1.806829e+18   jewelry.pendant       1.0      54.66   \n",
       "2            1  1.806829e+18   jewelry.pendant       0.0      88.90   \n",
       "3            1  1.806829e+18  jewelry.necklace       0.0     417.67   \n",
       "4            1  1.806829e+18   jewelry.earring       1.0     102.27   \n",
       "\n",
       "        User_ID Target_Gender Main_Color Main_Metal  Main_Gem  \n",
       "0  1.515916e+18           NaN     yellow       gold       NaN  \n",
       "1  1.515916e+18             f      white       gold  sapphire  \n",
       "2  1.515916e+18             f        red       gold   diamond  \n",
       "3  1.515916e+18           NaN        red       gold  amethyst  \n",
       "4  1.515916e+18           NaN        red       gold       NaN  "
      ]
     },
     "execution_count": 42,
     "metadata": {},
     "output_type": "execute_result"
    }
   ],
   "source": [
    "df.head()"
   ]
  },
  {
   "cell_type": "code",
   "execution_count": 43,
   "id": "5dae991d-a698-4727-92c8-89d4f2e311c9",
   "metadata": {},
   "outputs": [
    {
     "data": {
      "text/plain": [
       "Order_Datetime        0\n",
       "Order_ID              0\n",
       "Product_ID            0\n",
       "SKU_Quality           0\n",
       "Category_ID        5352\n",
       "Category           9933\n",
       "Brand_ID           4785\n",
       "Price_USD          5352\n",
       "User_ID            5352\n",
       "Target_Gender     48167\n",
       "Main_Color         7660\n",
       "Main_Metal         5462\n",
       "Main_Gem          34058\n",
       "dtype: int64"
      ]
     },
     "execution_count": 43,
     "metadata": {},
     "output_type": "execute_result"
    }
   ],
   "source": [
    "# check for missing values\n",
    "df.isnull().sum()"
   ]
  },
  {
   "cell_type": "code",
   "execution_count": 44,
   "id": "14de0cd5-949e-4ca0-adf6-fdc1b41f86c7",
   "metadata": {},
   "outputs": [
    {
     "data": {
      "text/plain": [
       "(95910, 13)"
      ]
     },
     "execution_count": 44,
     "metadata": {},
     "output_type": "execute_result"
    }
   ],
   "source": [
    "df.shape"
   ]
  },
  {
   "cell_type": "code",
   "execution_count": 45,
   "id": "b5744ade-833c-4488-af01-0a73700906d2",
   "metadata": {},
   "outputs": [
    {
     "data": {
      "text/plain": [
       "Order_Datetime    74504\n",
       "Order_ID          74759\n",
       "Product_ID         9613\n",
       "SKU_Quality           1\n",
       "Category_ID          25\n",
       "Category            218\n",
       "Brand_ID           2537\n",
       "Price_USD          3166\n",
       "User_ID           31079\n",
       "Target_Gender         2\n",
       "Main_Color            5\n",
       "Main_Metal            3\n",
       "Main_Gem             30\n",
       "dtype: int64"
      ]
     },
     "execution_count": 45,
     "metadata": {},
     "output_type": "execute_result"
    }
   ],
   "source": [
    "# Feature Cadinality\n",
    "df.nunique()"
   ]
  },
  {
   "cell_type": "code",
   "execution_count": 46,
   "id": "1c23973a-96cb-4035-beeb-a1f3d7e09ed9",
   "metadata": {},
   "outputs": [
    {
     "data": {
      "text/html": [
       "<div>\n",
       "<style scoped>\n",
       "    .dataframe tbody tr th:only-of-type {\n",
       "        vertical-align: middle;\n",
       "    }\n",
       "\n",
       "    .dataframe tbody tr th {\n",
       "        vertical-align: top;\n",
       "    }\n",
       "\n",
       "    .dataframe thead th {\n",
       "        text-align: right;\n",
       "    }\n",
       "</style>\n",
       "<table border=\"1\" class=\"dataframe\">\n",
       "  <thead>\n",
       "    <tr style=\"text-align: right;\">\n",
       "      <th></th>\n",
       "      <th>Order_ID</th>\n",
       "      <th>Product_ID</th>\n",
       "      <th>SKU_Quality</th>\n",
       "      <th>Category_ID</th>\n",
       "      <th>Brand_ID</th>\n",
       "      <th>Price_USD</th>\n",
       "      <th>User_ID</th>\n",
       "    </tr>\n",
       "  </thead>\n",
       "  <tbody>\n",
       "    <tr>\n",
       "      <th>count</th>\n",
       "      <td>9.591000e+04</td>\n",
       "      <td>9.591000e+04</td>\n",
       "      <td>95910.0</td>\n",
       "      <td>9.055800e+04</td>\n",
       "      <td>9.112500e+04</td>\n",
       "      <td>90558.000000</td>\n",
       "      <td>9.055800e+04</td>\n",
       "    </tr>\n",
       "    <tr>\n",
       "      <th>mean</th>\n",
       "      <td>2.485191e+18</td>\n",
       "      <td>1.815970e+18</td>\n",
       "      <td>1.0</td>\n",
       "      <td>1.805947e+18</td>\n",
       "      <td>8.891036e+16</td>\n",
       "      <td>362.213017</td>\n",
       "      <td>1.512644e+18</td>\n",
       "    </tr>\n",
       "    <tr>\n",
       "      <th>std</th>\n",
       "      <td>1.934750e+17</td>\n",
       "      <td>2.136814e+17</td>\n",
       "      <td>0.0</td>\n",
       "      <td>2.083954e+16</td>\n",
       "      <td>3.559651e+17</td>\n",
       "      <td>444.157665</td>\n",
       "      <td>2.374776e+16</td>\n",
       "    </tr>\n",
       "    <tr>\n",
       "      <th>min</th>\n",
       "      <td>1.924899e+18</td>\n",
       "      <td>1.313551e+18</td>\n",
       "      <td>1.0</td>\n",
       "      <td>1.313678e+18</td>\n",
       "      <td>0.000000e+00</td>\n",
       "      <td>0.990000</td>\n",
       "      <td>1.313554e+18</td>\n",
       "    </tr>\n",
       "    <tr>\n",
       "      <th>25%</th>\n",
       "      <td>2.379732e+18</td>\n",
       "      <td>1.515966e+18</td>\n",
       "      <td>1.0</td>\n",
       "      <td>1.806829e+18</td>\n",
       "      <td>0.000000e+00</td>\n",
       "      <td>145.620000</td>\n",
       "      <td>1.515916e+18</td>\n",
       "    </tr>\n",
       "    <tr>\n",
       "      <th>50%</th>\n",
       "      <td>2.524282e+18</td>\n",
       "      <td>1.956664e+18</td>\n",
       "      <td>1.0</td>\n",
       "      <td>1.806829e+18</td>\n",
       "      <td>1.000000e+00</td>\n",
       "      <td>258.770000</td>\n",
       "      <td>1.515916e+18</td>\n",
       "    </tr>\n",
       "    <tr>\n",
       "      <th>75%</th>\n",
       "      <td>2.644347e+18</td>\n",
       "      <td>1.956664e+18</td>\n",
       "      <td>1.0</td>\n",
       "      <td>1.806829e+18</td>\n",
       "      <td>1.000000e+00</td>\n",
       "      <td>431.370000</td>\n",
       "      <td>1.515916e+18</td>\n",
       "    </tr>\n",
       "    <tr>\n",
       "      <th>max</th>\n",
       "      <td>2.719022e+18</td>\n",
       "      <td>2.541962e+18</td>\n",
       "      <td>1.0</td>\n",
       "      <td>1.806829e+18</td>\n",
       "      <td>1.550613e+18</td>\n",
       "      <td>34448.600000</td>\n",
       "      <td>1.554297e+18</td>\n",
       "    </tr>\n",
       "  </tbody>\n",
       "</table>\n",
       "</div>"
      ],
      "text/plain": [
       "           Order_ID    Product_ID  SKU_Quality   Category_ID      Brand_ID  \\\n",
       "count  9.591000e+04  9.591000e+04      95910.0  9.055800e+04  9.112500e+04   \n",
       "mean   2.485191e+18  1.815970e+18          1.0  1.805947e+18  8.891036e+16   \n",
       "std    1.934750e+17  2.136814e+17          0.0  2.083954e+16  3.559651e+17   \n",
       "min    1.924899e+18  1.313551e+18          1.0  1.313678e+18  0.000000e+00   \n",
       "25%    2.379732e+18  1.515966e+18          1.0  1.806829e+18  0.000000e+00   \n",
       "50%    2.524282e+18  1.956664e+18          1.0  1.806829e+18  1.000000e+00   \n",
       "75%    2.644347e+18  1.956664e+18          1.0  1.806829e+18  1.000000e+00   \n",
       "max    2.719022e+18  2.541962e+18          1.0  1.806829e+18  1.550613e+18   \n",
       "\n",
       "          Price_USD       User_ID  \n",
       "count  90558.000000  9.055800e+04  \n",
       "mean     362.213017  1.512644e+18  \n",
       "std      444.157665  2.374776e+16  \n",
       "min        0.990000  1.313554e+18  \n",
       "25%      145.620000  1.515916e+18  \n",
       "50%      258.770000  1.515916e+18  \n",
       "75%      431.370000  1.515916e+18  \n",
       "max    34448.600000  1.554297e+18  "
      ]
     },
     "execution_count": 46,
     "metadata": {},
     "output_type": "execute_result"
    }
   ],
   "source": [
    "# Data Description\n",
    "df.describe()"
   ]
  },
  {
   "cell_type": "code",
   "execution_count": 47,
   "id": "88593521-9be0-40e6-9764-7f19f9386c06",
   "metadata": {},
   "outputs": [
    {
     "name": "stdout",
     "output_type": "stream",
     "text": [
      "<class 'pandas.core.frame.DataFrame'>\n",
      "RangeIndex: 95910 entries, 0 to 95909\n",
      "Data columns (total 13 columns):\n",
      " #   Column          Non-Null Count  Dtype  \n",
      "---  ------          --------------  -----  \n",
      " 0   Order_Datetime  95910 non-null  object \n",
      " 1   Order_ID        95910 non-null  int64  \n",
      " 2   Product_ID      95910 non-null  int64  \n",
      " 3   SKU_Quality     95910 non-null  int64  \n",
      " 4   Category_ID     90558 non-null  float64\n",
      " 5   Category        85977 non-null  object \n",
      " 6   Brand_ID        91125 non-null  float64\n",
      " 7   Price_USD       90558 non-null  float64\n",
      " 8   User_ID         90558 non-null  float64\n",
      " 9   Target_Gender   47743 non-null  object \n",
      " 10  Main_Color      88250 non-null  object \n",
      " 11  Main_Metal      90448 non-null  object \n",
      " 12  Main_Gem        61852 non-null  object \n",
      "dtypes: float64(4), int64(3), object(6)\n",
      "memory usage: 9.5+ MB\n"
     ]
    }
   ],
   "source": [
    "# More information\n",
    "df.info()"
   ]
  },
  {
   "cell_type": "code",
   "execution_count": 48,
   "id": "a68a3b7e-11f2-4f19-9a81-d371cac01239",
   "metadata": {},
   "outputs": [
    {
     "name": "stdout",
     "output_type": "stream",
     "text": [
      "Number of duplicated records: 2589\n"
     ]
    }
   ],
   "source": [
    "# check for duplicate\n",
    "num_duplicate = len(df.loc[df.duplicated()])\n",
    "print(f\"Number of duplicated records:\", num_duplicate)"
   ]
  },
  {
   "cell_type": "code",
   "execution_count": 49,
   "id": "4dacbf0a-1dc5-4f0a-be1a-9152a74e24d1",
   "metadata": {},
   "outputs": [
    {
     "data": {
      "text/plain": [
       "['SKU_Quality']"
      ]
     },
     "execution_count": 49,
     "metadata": {},
     "output_type": "execute_result"
    }
   ],
   "source": [
    "# Check for features with a cardinality of 1(Invariant features)\n",
    "invarient_features = df.nunique()[df.nunique() == 1].index.tolist()\n",
    "invarient_features"
   ]
  },
  {
   "cell_type": "code",
   "execution_count": 50,
   "id": "6b70086f-28a3-450e-9697-85fa8159b383",
   "metadata": {},
   "outputs": [
    {
     "data": {
      "text/plain": [
       "18.95906072625981"
      ]
     },
     "execution_count": 50,
     "metadata": {},
     "output_type": "execute_result"
    }
   ],
   "source": [
    "# Check for label distibution, our label in this case is Price_USD\n",
    "df[\"Price_USD\"].skew()"
   ]
  },
  {
   "cell_type": "code",
   "execution_count": 51,
   "id": "39562390-d5af-4e59-b0c1-bac350aa6fd1",
   "metadata": {},
   "outputs": [
    {
     "data": {
      "text/plain": [
       "1054.8979068506155"
      ]
     },
     "execution_count": 51,
     "metadata": {},
     "output_type": "execute_result"
    }
   ],
   "source": [
    "df[\"Price_USD\"].kurtosis()"
   ]
  },
  {
   "cell_type": "code",
   "execution_count": 52,
   "id": "3455b0ff-5686-4126-bd16-8f37a38c744b",
   "metadata": {},
   "outputs": [
    {
     "data": {
      "image/png": "[encoded data removed]",
      "text/plain": [
       "<Figure size 1400x600 with 2 Axes>"
      ]
     },
     "metadata": {},
     "output_type": "display_data"
    }
   ],
   "source": [
    "# Visualise the skweness of the Price distribution using both KDE and Hist\n",
    "import matplotlib.pyplot as plt\n",
    "import seaborn as sns\n",
    "\n",
    "plt.figure(figsize=(14, 6))\n",
    "\n",
    "# KDE Plot\n",
    "plt.subplot(1, 2, 1)\n",
    "sns.kdeplot(x=\"Price_USD\", data=df, fill=True, color='skyblue')\n",
    "plt.xlabel(\"Price in U.S. Dollars\")\n",
    "plt.ylabel(\"Density\")\n",
    "plt.title(\"Price Distribution (KDE)\")\n",
    "\n",
    "# Histogram Plot\n",
    "plt.subplot(1, 2, 2)\n",
    "sns.histplot(data=df, x=\"Price_USD\", bins=30, kde=True, color='salmon')\n",
    "plt.xlabel(\"Price in U.S. Dollars\")\n",
    "plt.ylabel(\"Frequency\")\n",
    "plt.title(\"Price Distribution (Histogram)\")\n",
    "\n",
    "plt.tight_layout()\n",
    "plt.show()\n"
   ]
  },
  {
   "cell_type": "code",
   "execution_count": 53,
   "id": "0577ddd2-ca73-4dd1-b9c1-1b595724afb5",
   "metadata": {},
   "outputs": [
    {
     "data": {
      "text/plain": [
       "f    47379\n",
       "m      364\n",
       "Name: Target_Gender, dtype: int64"
      ]
     },
     "execution_count": 53,
     "metadata": {},
     "output_type": "execute_result"
    }
   ],
   "source": [
    "#Target Gender analysis\n",
    "df[\"Target_Gender\"].value_counts()"
   ]
  },
  {
   "cell_type": "code",
   "execution_count": 54,
   "id": "e4ba8b4f-6277-450d-b475-e311422d198e",
   "metadata": {},
   "outputs": [
    {
     "data": {
      "text/plain": [
       "f    0.992376\n",
       "m    0.007624\n",
       "Name: Target_Gender, dtype: float64"
      ]
     },
     "execution_count": 54,
     "metadata": {},
     "output_type": "execute_result"
    }
   ],
   "source": [
    "df[\"Target_Gender\"].value_counts(normalize = True)"
   ]
  },
  {
   "cell_type": "code",
   "execution_count": 55,
   "id": "57c17b6d-fab5-4860-b448-241883e728c6",
   "metadata": {},
   "outputs": [
    {
     "data": {
      "image/png": "[encoded data removed]",
      "text/plain": [
       "<Figure size 1200x700 with 1 Axes>"
      ]
     },
     "metadata": {},
     "output_type": "display_data"
    }
   ],
   "source": [
    "# Visualize \n",
    "plt.figure(figsize = (12, 7))\n",
    "sns.countplot(data = df, x = \"Target_Gender\")\n",
    "\n",
    "plt.xlabel(\"Gender\")\n",
    "plt.ylabel(\"Gender Subpopulation\")\n",
    "plt.title(\"Gender Trend\")\n",
    "plt.show(); plt.close()"
   ]
  },
  {
   "cell_type": "code",
   "execution_count": 56,
   "id": "b022c491-2baf-4458-baf9-b7e6812eee97",
   "metadata": {},
   "outputs": [
    {
     "data": {
      "text/plain": [
       "jewelry.earring     29051\n",
       "jewelry.ring        28300\n",
       "jewelry.pendant     13088\n",
       "jewelry.bracelet     6188\n",
       "0.00                 4392\n",
       "                    ...  \n",
       "626.58                  1\n",
       "13.42                   1\n",
       "2.88                    1\n",
       "101.23                  1\n",
       "253.77                  1\n",
       "Name: Category, Length: 218, dtype: int64"
      ]
     },
     "execution_count": 56,
     "metadata": {},
     "output_type": "execute_result"
    }
   ],
   "source": [
    "# Jewelry Category Analysis\n",
    "df[\"Category\"].value_counts()"
   ]
  },
  {
   "cell_type": "code",
   "execution_count": 57,
   "id": "a24d3f3e-dd85-4a34-ac47-f0f4a6e4a3e8",
   "metadata": {},
   "outputs": [
    {
     "data": {
      "text/plain": [
       "array([nan, 'jewelry.pendant', 'jewelry.necklace', 'jewelry.earring',\n",
       "       'jewelry.ring', 'jewelry.brooch', 'jewelry.bracelet',\n",
       "       'electronics.clocks', 'jewelry.souvenir', '230.12', '202.36',\n",
       "       '1098.03', '321.78', '1128.62', '81.27', '34.25', '582.16',\n",
       "       '227.37', '234.22', '150.55', '131.82', '2123.15', '109.45',\n",
       "       '49.22', '472.47', '205.38', '2746.44', '51.08', '231.12', '76.97',\n",
       "       '3054.73', '184.90', '380.10', '357.49', '15.47', '135.33',\n",
       "       '719.75', '93.01', '177.95', 'jewelry.stud', '102.10', '595.75',\n",
       "       '469.56', '427.07', '53.62', '77.53', '1469.18', '355.27',\n",
       "       '184.89', '154.66', '300.58', '83.73', '271.19', '3294.21',\n",
       "       '278.04', '3626.26', '126.03', '283.52', '114.38', '89.04', '8.22',\n",
       "       '124.88', '89.73', '171.23', '136.93', '19.04', '158.77', '187.10',\n",
       "       '151.92', '1845.89', '87.23', '248.58', '596.48', '208.88',\n",
       "       '193.11', '169.84', '1447.68', '45.07', '136.85', '282.05',\n",
       "       '61.51', '210.21', '137.12', '147.81', '419.45', '825.27',\n",
       "       '300.16', '541.78', '308.74', '766.85', '410.82', '101.23', '2.88',\n",
       "       '1356.16', '13.42', '35.21', '134.79', '626.58', '13.70', '108.53',\n",
       "       '119.01', '7.40', '4.79', '153.97', '482.47', '427.36', '289.18',\n",
       "       '25.48', '1858.49', '21.70', '11.77', '198.89', '17.51', '574.66',\n",
       "       '1319.93', '393.05', '358.22', '2282.19', '114.93', '371.23',\n",
       "       '63.56', '88.77', '133.70', '117.81', '166.03', '130.41', '195.75',\n",
       "       '104.79', '228.59', '1686.93', '65.89', '242.19', '252.47',\n",
       "       '210.41', '363.42', '149.04', '157.95', '176.30', '160.96',\n",
       "       '316.30', '258.77', '268.36', '838.90', '250.96', '832.01',\n",
       "       '312.33', '318.71', '323.60', '205.34', '608.22', '343.84',\n",
       "       '598.22', '508.08', '245.67', '338.36', '75.21', '573.81',\n",
       "       '691.51', '476.68', '247.68', '286.71', '863.67', '236.58',\n",
       "       '644.66', '40.82', '1376.99', '1.23', '621.23', '3454.79', '65.62',\n",
       "       '59.73', '571.30', '70.96', '271.26', '958.84', '527.26', '271.16',\n",
       "       '284.66', '261.64', '493.01', '35.48', '446.16', '526.41',\n",
       "       '2517.08', '331.51', '312.88', '148.63', '451.21', '369.82',\n",
       "       '537.40', '231.51', '316.34', '451.10', '283.49', '787.67',\n",
       "       '131.92', '495.48', '5.48', '186.03', '484.49', '331.23', '133.85',\n",
       "       '323.70', '2635.07', '297.22', '0.00', '259.58', '108.33',\n",
       "       '4876.49', '308.08', '190.27', '916.44', '132.53', '1829.37',\n",
       "       '2208.90', '75.76', '278.01', '662.30', '253.77'], dtype=object)"
      ]
     },
     "execution_count": 57,
     "metadata": {},
     "output_type": "execute_result"
    }
   ],
   "source": [
    "df[\"Category\"].unique()"
   ]
  },
  {
   "cell_type": "code",
   "execution_count": 58,
   "id": "0e210ab1-f9f5-4487-bffc-41455a27176d",
   "metadata": {},
   "outputs": [
    {
     "data": {
      "text/plain": [
       "['jewelry.pendant',\n",
       " 'jewelry.necklace',\n",
       " 'jewelry.earring',\n",
       " 'jewelry.ring',\n",
       " 'jewelry.brooch',\n",
       " 'jewelry.bracelet',\n",
       " 'jewelry.souvenir',\n",
       " 'jewelry.stud']"
      ]
     },
     "execution_count": 58,
     "metadata": {},
     "output_type": "execute_result"
    }
   ],
   "source": [
    "# Extract the actual category\n",
    "categories = df[\"Category\"].unique().tolist()\n",
    "categories = [c for c in categories if isinstance(c, str) and \"jewelry\" in c.lower()]\n",
    "categories"
   ]
  },
  {
   "cell_type": "code",
   "execution_count": 59,
   "id": "d46475bc-9150-4a7c-8ac7-c34d3366d712",
   "metadata": {},
   "outputs": [
    {
     "data": {
      "text/html": [
       "<div>\n",
       "<style scoped>\n",
       "    .dataframe tbody tr th:only-of-type {\n",
       "        vertical-align: middle;\n",
       "    }\n",
       "\n",
       "    .dataframe tbody tr th {\n",
       "        vertical-align: top;\n",
       "    }\n",
       "\n",
       "    .dataframe thead th {\n",
       "        text-align: right;\n",
       "    }\n",
       "</style>\n",
       "<table border=\"1\" class=\"dataframe\">\n",
       "  <thead>\n",
       "    <tr style=\"text-align: right;\">\n",
       "      <th></th>\n",
       "      <th>Order_Datetime</th>\n",
       "      <th>Order_ID</th>\n",
       "      <th>Product_ID</th>\n",
       "      <th>SKU_Quality</th>\n",
       "      <th>Category_ID</th>\n",
       "      <th>Category</th>\n",
       "      <th>Brand_ID</th>\n",
       "      <th>Price_USD</th>\n",
       "      <th>User_ID</th>\n",
       "      <th>Target_Gender</th>\n",
       "      <th>Main_Color</th>\n",
       "      <th>Main_Metal</th>\n",
       "      <th>Main_Gem</th>\n",
       "    </tr>\n",
       "  </thead>\n",
       "  <tbody>\n",
       "    <tr>\n",
       "      <th>1</th>\n",
       "      <td>2018-12-02 13:53:42 UTC</td>\n",
       "      <td>1925511016616034733</td>\n",
       "      <td>1842214461889315556</td>\n",
       "      <td>1</td>\n",
       "      <td>1.806829e+18</td>\n",
       "      <td>jewelry.pendant</td>\n",
       "      <td>1.0</td>\n",
       "      <td>54.66</td>\n",
       "      <td>1.515916e+18</td>\n",
       "      <td>f</td>\n",
       "      <td>white</td>\n",
       "      <td>gold</td>\n",
       "      <td>sapphire</td>\n",
       "    </tr>\n",
       "    <tr>\n",
       "      <th>2</th>\n",
       "      <td>2018-12-02 17:44:02 UTC</td>\n",
       "      <td>1925626951238681511</td>\n",
       "      <td>1835566849434059453</td>\n",
       "      <td>1</td>\n",
       "      <td>1.806829e+18</td>\n",
       "      <td>jewelry.pendant</td>\n",
       "      <td>0.0</td>\n",
       "      <td>88.90</td>\n",
       "      <td>1.515916e+18</td>\n",
       "      <td>f</td>\n",
       "      <td>red</td>\n",
       "      <td>gold</td>\n",
       "      <td>diamond</td>\n",
       "    </tr>\n",
       "    <tr>\n",
       "      <th>3</th>\n",
       "      <td>2018-12-02 21:30:19 UTC</td>\n",
       "      <td>1925740842841014667</td>\n",
       "      <td>1873936840742928865</td>\n",
       "      <td>1</td>\n",
       "      <td>1.806829e+18</td>\n",
       "      <td>jewelry.necklace</td>\n",
       "      <td>0.0</td>\n",
       "      <td>417.67</td>\n",
       "      <td>1.515916e+18</td>\n",
       "      <td>NaN</td>\n",
       "      <td>red</td>\n",
       "      <td>gold</td>\n",
       "      <td>amethyst</td>\n",
       "    </tr>\n",
       "    <tr>\n",
       "      <th>4</th>\n",
       "      <td>2018-12-02 22:09:34 UTC</td>\n",
       "      <td>1925760595336888995</td>\n",
       "      <td>1835566854827934449</td>\n",
       "      <td>1</td>\n",
       "      <td>1.806829e+18</td>\n",
       "      <td>jewelry.earring</td>\n",
       "      <td>1.0</td>\n",
       "      <td>102.27</td>\n",
       "      <td>1.515916e+18</td>\n",
       "      <td>NaN</td>\n",
       "      <td>red</td>\n",
       "      <td>gold</td>\n",
       "      <td>NaN</td>\n",
       "    </tr>\n",
       "    <tr>\n",
       "      <th>5</th>\n",
       "      <td>2018-12-02 22:09:34 UTC</td>\n",
       "      <td>1925760595336888995</td>\n",
       "      <td>1600021442638905547</td>\n",
       "      <td>1</td>\n",
       "      <td>1.806829e+18</td>\n",
       "      <td>jewelry.earring</td>\n",
       "      <td>0.0</td>\n",
       "      <td>150.55</td>\n",
       "      <td>1.515916e+18</td>\n",
       "      <td>NaN</td>\n",
       "      <td>red</td>\n",
       "      <td>gold</td>\n",
       "      <td>diamond</td>\n",
       "    </tr>\n",
       "    <tr>\n",
       "      <th>...</th>\n",
       "      <td>...</td>\n",
       "      <td>...</td>\n",
       "      <td>...</td>\n",
       "      <td>...</td>\n",
       "      <td>...</td>\n",
       "      <td>...</td>\n",
       "      <td>...</td>\n",
       "      <td>...</td>\n",
       "      <td>...</td>\n",
       "      <td>...</td>\n",
       "      <td>...</td>\n",
       "      <td>...</td>\n",
       "      <td>...</td>\n",
       "    </tr>\n",
       "    <tr>\n",
       "      <th>95900</th>\n",
       "      <td>2021-12-01 09:32:35 UTC</td>\n",
       "      <td>2719009022110859402</td>\n",
       "      <td>1956663836207481431</td>\n",
       "      <td>1</td>\n",
       "      <td>1.806829e+18</td>\n",
       "      <td>jewelry.ring</td>\n",
       "      <td>0.0</td>\n",
       "      <td>145.62</td>\n",
       "      <td>1.515916e+18</td>\n",
       "      <td>NaN</td>\n",
       "      <td>red</td>\n",
       "      <td>gold</td>\n",
       "      <td>NaN</td>\n",
       "    </tr>\n",
       "    <tr>\n",
       "      <th>95903</th>\n",
       "      <td>2021-12-01 09:37:28 UTC</td>\n",
       "      <td>2719011482355368159</td>\n",
       "      <td>1956663847389495299</td>\n",
       "      <td>1</td>\n",
       "      <td>1.806829e+18</td>\n",
       "      <td>jewelry.earring</td>\n",
       "      <td>0.0</td>\n",
       "      <td>301.23</td>\n",
       "      <td>1.515916e+18</td>\n",
       "      <td>NaN</td>\n",
       "      <td>red</td>\n",
       "      <td>gold</td>\n",
       "      <td>amethyst</td>\n",
       "    </tr>\n",
       "    <tr>\n",
       "      <th>95907</th>\n",
       "      <td>2021-12-01 09:52:06 UTC</td>\n",
       "      <td>2719018846999544322</td>\n",
       "      <td>1956663848219968336</td>\n",
       "      <td>1</td>\n",
       "      <td>1.806829e+18</td>\n",
       "      <td>jewelry.earring</td>\n",
       "      <td>1.0</td>\n",
       "      <td>630.00</td>\n",
       "      <td>1.515916e+18</td>\n",
       "      <td>f</td>\n",
       "      <td>white</td>\n",
       "      <td>gold</td>\n",
       "      <td>diamond</td>\n",
       "    </tr>\n",
       "    <tr>\n",
       "      <th>95908</th>\n",
       "      <td>2021-12-01 09:55:35 UTC</td>\n",
       "      <td>2719020596963836492</td>\n",
       "      <td>1835566854106513435</td>\n",
       "      <td>1</td>\n",
       "      <td>1.806829e+18</td>\n",
       "      <td>jewelry.earring</td>\n",
       "      <td>0.0</td>\n",
       "      <td>83.42</td>\n",
       "      <td>1.515916e+18</td>\n",
       "      <td>NaN</td>\n",
       "      <td>white</td>\n",
       "      <td>gold</td>\n",
       "      <td>fianit</td>\n",
       "    </tr>\n",
       "    <tr>\n",
       "      <th>95909</th>\n",
       "      <td>2021-12-01 09:59:07 UTC</td>\n",
       "      <td>2719022379232658075</td>\n",
       "      <td>1956663846156370429</td>\n",
       "      <td>1</td>\n",
       "      <td>1.806829e+18</td>\n",
       "      <td>jewelry.pendant</td>\n",
       "      <td>1.0</td>\n",
       "      <td>97.12</td>\n",
       "      <td>1.515916e+18</td>\n",
       "      <td>NaN</td>\n",
       "      <td>red</td>\n",
       "      <td>gold</td>\n",
       "      <td>NaN</td>\n",
       "    </tr>\n",
       "  </tbody>\n",
       "</table>\n",
       "<p>80458 rows × 13 columns</p>\n",
       "</div>"
      ],
      "text/plain": [
       "                Order_Datetime             Order_ID           Product_ID  \\\n",
       "1      2018-12-02 13:53:42 UTC  1925511016616034733  1842214461889315556   \n",
       "2      2018-12-02 17:44:02 UTC  1925626951238681511  1835566849434059453   \n",
       "3      2018-12-02 21:30:19 UTC  1925740842841014667  1873936840742928865   \n",
       "4      2018-12-02 22:09:34 UTC  1925760595336888995  1835566854827934449   \n",
       "5      2018-12-02 22:09:34 UTC  1925760595336888995  1600021442638905547   \n",
       "...                        ...                  ...                  ...   \n",
       "95900  2021-12-01 09:32:35 UTC  2719009022110859402  1956663836207481431   \n",
       "95903  2021-12-01 09:37:28 UTC  2719011482355368159  1956663847389495299   \n",
       "95907  2021-12-01 09:52:06 UTC  2719018846999544322  1956663848219968336   \n",
       "95908  2021-12-01 09:55:35 UTC  2719020596963836492  1835566854106513435   \n",
       "95909  2021-12-01 09:59:07 UTC  2719022379232658075  1956663846156370429   \n",
       "\n",
       "       SKU_Quality   Category_ID          Category  Brand_ID  Price_USD  \\\n",
       "1                1  1.806829e+18   jewelry.pendant       1.0      54.66   \n",
       "2                1  1.806829e+18   jewelry.pendant       0.0      88.90   \n",
       "3                1  1.806829e+18  jewelry.necklace       0.0     417.67   \n",
       "4                1  1.806829e+18   jewelry.earring       1.0     102.27   \n",
       "5                1  1.806829e+18   jewelry.earring       0.0     150.55   \n",
       "...            ...           ...               ...       ...        ...   \n",
       "95900            1  1.806829e+18      jewelry.ring       0.0     145.62   \n",
       "95903            1  1.806829e+18   jewelry.earring       0.0     301.23   \n",
       "95907            1  1.806829e+18   jewelry.earring       1.0     630.00   \n",
       "95908            1  1.806829e+18   jewelry.earring       0.0      83.42   \n",
       "95909            1  1.806829e+18   jewelry.pendant       1.0      97.12   \n",
       "\n",
       "            User_ID Target_Gender Main_Color Main_Metal  Main_Gem  \n",
       "1      1.515916e+18             f      white       gold  sapphire  \n",
       "2      1.515916e+18             f        red       gold   diamond  \n",
       "3      1.515916e+18           NaN        red       gold  amethyst  \n",
       "4      1.515916e+18           NaN        red       gold       NaN  \n",
       "5      1.515916e+18           NaN        red       gold   diamond  \n",
       "...             ...           ...        ...        ...       ...  \n",
       "95900  1.515916e+18           NaN        red       gold       NaN  \n",
       "95903  1.515916e+18           NaN        red       gold  amethyst  \n",
       "95907  1.515916e+18             f      white       gold   diamond  \n",
       "95908  1.515916e+18           NaN      white       gold    fianit  \n",
       "95909  1.515916e+18           NaN        red       gold       NaN  \n",
       "\n",
       "[80458 rows x 13 columns]"
      ]
     },
     "execution_count": 59,
     "metadata": {},
     "output_type": "execute_result"
    }
   ],
   "source": [
    "# Pick out authentic data based on category\n",
    "real_categories = df.loc[df[\"Category\"].isin(categories)]\n",
    "real_categories"
   ]
  },
  {
   "cell_type": "code",
   "execution_count": 61,
   "id": "fda33a1e-55df-46f4-bda7-82269dde4d70",
   "metadata": {},
   "outputs": [
    {
     "data": {
      "text/plain": [
       "Order_Datetime     0.000000\n",
       "Order_ID           0.000000\n",
       "Product_ID         0.000000\n",
       "SKU_Quality        0.000000\n",
       "Category_ID        5.580231\n",
       "Category          10.356584\n",
       "Brand_ID           4.989052\n",
       "Price_USD          5.580231\n",
       "User_ID            5.580231\n",
       "Target_Gender     50.221041\n",
       "Main_Color         7.986654\n",
       "Main_Metal         5.694922\n",
       "Main_Gem          35.510374\n",
       "dtype: float64"
      ]
     },
     "execution_count": 61,
     "metadata": {},
     "output_type": "execute_result"
    }
   ],
   "source": [
    "# Percentage of missing values\n",
    "100 * df.isnull().sum() / len(df)"
   ]
  },
  {
   "cell_type": "code",
   "execution_count": 62,
   "id": "e7355688-9b03-43bc-9835-877926068fe7",
   "metadata": {},
   "outputs": [
    {
     "data": {
      "text/plain": [
       "Order_Datetime     0.000000\n",
       "Order_ID           0.000000\n",
       "Product_ID         0.000000\n",
       "SKU_Quality        0.000000\n",
       "Category_ID        0.000000\n",
       "Category           0.000000\n",
       "Brand_ID           4.309081\n",
       "Price_USD          0.000000\n",
       "User_ID            0.000000\n",
       "Target_Gender     44.842029\n",
       "Main_Color         2.656044\n",
       "Main_Metal         0.110617\n",
       "Main_Gem          24.232519\n",
       "dtype: float64"
      ]
     },
     "execution_count": 62,
     "metadata": {},
     "output_type": "execute_result"
    }
   ],
   "source": [
    "# Percentage of missing values of category\n",
    "100 * real_categories.isnull().sum() / len(real_categories)"
   ]
  },
  {
   "cell_type": "code",
   "execution_count": 64,
   "id": "fff6f238-18db-4dd2-8863-6dfb97beb000",
   "metadata": {},
   "outputs": [
    {
     "data": {
      "image/png": "[encoded data removed]",
      "text/plain": [
       "<Figure size 2000x1000 with 2 Axes>"
      ]
     },
     "metadata": {},
     "output_type": "display_data"
    }
   ],
   "source": [
    "# Visualize Jewelry Category using pie and countplots\n",
    "import matplotlib.pyplot as plt\n",
    "import seaborn as sns\n",
    "\n",
    "# Value counts\n",
    "subdata = real_categories[\"Category\"].value_counts()\n",
    "jewelry_categories, counts = subdata.index.tolist(), subdata.values.tolist()\n",
    "\n",
    "# Create subplots\n",
    "plt.figure(figsize=(20, 10))\n",
    "\n",
    "# Pie chart\n",
    "plt.subplot(1, 2, 1)\n",
    "plt.pie(x=counts, labels=jewelry_categories, autopct='%1.1f%%', startangle=140)\n",
    "plt.title(\"Category Distribution (Pie Chart)\")\n",
    "\n",
    "# Countplot\n",
    "plt.subplot(1, 2, 2)\n",
    "sns.countplot(data=real_categories, y=\"Category\", order=subdata.index)\n",
    "plt.title(\"Category Counts (Bar Chart)\")\n",
    "plt.xlabel(\"Count\")\n",
    "plt.ylabel(\"Category\")\n",
    "\n",
    "plt.tight_layout()\n",
    "plt.show()\n"
   ]
  },
  {
   "cell_type": "code",
   "execution_count": 67,
   "id": "57197f3d-d087-4e15-837c-3952be8083b6",
   "metadata": {},
   "outputs": [
    {
     "data": {
      "image/png": "[encoded data removed]",
      "text/plain": [
       "<Figure size 2000x1000 with 1 Axes>"
      ]
     },
     "metadata": {},
     "output_type": "display_data"
    }
   ],
   "source": [
    "# Jewelry Category by Gender\n",
    "plt.figure(figsize = (20, 10))\n",
    "sns.countplot(data = real_categories, x = \"Category\", hue = \"Target_Gender\")\n",
    "\n",
    "plt.xlabel(\"Jewelry Category by Gender\")\n",
    "plt.ylabel(\"Frequency\")\n",
    "plt.show(); plt.close()"
   ]
  },
  {
   "cell_type": "code",
   "execution_count": 69,
   "id": "2d45ced1-f547-43ce-b865-6ea6652dabe9",
   "metadata": {},
   "outputs": [
    {
     "data": {
      "text/plain": [
       "f    0.992376\n",
       "m    0.007624\n",
       "Name: Target_Gender, dtype: float64"
      ]
     },
     "execution_count": 69,
     "metadata": {},
     "output_type": "execute_result"
    }
   ],
   "source": [
    "# Gender Skew in Original data\n",
    "df[\"Target_Gender\"].value_counts(normalize = True)"
   ]
  },
  {
   "cell_type": "code",
   "execution_count": 70,
   "id": "dd0659df-ac20-40e9-8810-9a0c7b14dda4",
   "metadata": {},
   "outputs": [
    {
     "data": {
      "text/plain": [
       "f    0.994434\n",
       "m    0.005566\n",
       "Name: Target_Gender, dtype: float64"
      ]
     },
     "execution_count": 70,
     "metadata": {},
     "output_type": "execute_result"
    }
   ],
   "source": [
    "# Gender Skew in category data\n",
    "real_categories[\"Target_Gender\"].value_counts(normalize = True)"
   ]
  },
  {
   "cell_type": "code",
   "execution_count": 71,
   "id": "763da9ed-6074-46b7-89bb-dc91fd7bc9e2",
   "metadata": {},
   "outputs": [
    {
     "name": "stderr",
     "output_type": "stream",
     "text": [
      "/var/folders/xd/k9ytlnfx6zdgdrgw2l_grb780000gp/T/ipykernel_1439/832916917.py:2: SettingWithCopyWarning: \n",
      "A value is trying to be set on a copy of a slice from a DataFrame.\n",
      "Try using .loc[row_indexer,col_indexer] = value instead\n",
      "\n",
      "See the caveats in the documentation: https://pandas.pydata.org/pandas-docs/stable/user_guide/indexing.html#returning-a-view-versus-a-copy\n",
      "  real_categories.loc[:, \"Category\"] = encoded\n"
     ]
    }
   ],
   "source": [
    "encoded, category_coded = pd.factorize(real_categories[\"Category\"])\n",
    "real_categories.loc[:, \"Category\"] = encoded"
   ]
  },
  {
   "cell_type": "code",
   "execution_count": 72,
   "id": "324d82a0-54dd-4e33-92a7-f0b217eaa367",
   "metadata": {},
   "outputs": [
    {
     "name": "stderr",
     "output_type": "stream",
     "text": [
      "/var/folders/xd/k9ytlnfx6zdgdrgw2l_grb780000gp/T/ipykernel_1439/1129073632.py:2: SettingWithCopyWarning: \n",
      "A value is trying to be set on a copy of a slice from a DataFrame.\n",
      "Try using .loc[row_indexer,col_indexer] = value instead\n",
      "\n",
      "See the caveats in the documentation: https://pandas.pydata.org/pandas-docs/stable/user_guide/indexing.html#returning-a-view-versus-a-copy\n",
      "  real_categories.loc[:, \"Target_Gender\"] = encoded\n"
     ]
    }
   ],
   "source": [
    "encoded, category_coded = pd.factorize(real_categories[\"Target_Gender\"])\n",
    "real_categories.loc[:, \"Target_Gender\"] = encoded"
   ]
  },
  {
   "cell_type": "code",
   "execution_count": 73,
   "id": "ba99e7a5-8c09-4da9-b6ce-1e085fac1b9b",
   "metadata": {},
   "outputs": [
    {
     "name": "stderr",
     "output_type": "stream",
     "text": [
      "/var/folders/xd/k9ytlnfx6zdgdrgw2l_grb780000gp/T/ipykernel_1439/2207337752.py:2: SettingWithCopyWarning: \n",
      "A value is trying to be set on a copy of a slice from a DataFrame.\n",
      "Try using .loc[row_indexer,col_indexer] = value instead\n",
      "\n",
      "See the caveats in the documentation: https://pandas.pydata.org/pandas-docs/stable/user_guide/indexing.html#returning-a-view-versus-a-copy\n",
      "  real_categories.loc[:, \"Main_Gem\"] = encoded\n"
     ]
    }
   ],
   "source": [
    "encoded, category_coded = pd.factorize(real_categories[\"Main_Gem\"])\n",
    "real_categories.loc[:, \"Main_Gem\"] = encoded"
   ]
  },
  {
   "cell_type": "code",
   "execution_count": 74,
   "id": "c7ea3f35-774b-4f2e-8d9b-961ddbda9257",
   "metadata": {},
   "outputs": [
    {
     "name": "stderr",
     "output_type": "stream",
     "text": [
      "/var/folders/xd/k9ytlnfx6zdgdrgw2l_grb780000gp/T/ipykernel_1439/2809269004.py:2: SettingWithCopyWarning: \n",
      "A value is trying to be set on a copy of a slice from a DataFrame.\n",
      "Try using .loc[row_indexer,col_indexer] = value instead\n",
      "\n",
      "See the caveats in the documentation: https://pandas.pydata.org/pandas-docs/stable/user_guide/indexing.html#returning-a-view-versus-a-copy\n",
      "  real_categories.loc[:, \"Main_Color\"] = encoded\n"
     ]
    }
   ],
   "source": [
    "encoded, category_coded = pd.factorize(real_categories[\"Main_Color\"])\n",
    "real_categories.loc[:, \"Main_Color\"] = encoded"
   ]
  },
  {
   "cell_type": "code",
   "execution_count": 75,
   "id": "e391ca3b-fc5d-4340-9e4b-242e67120715",
   "metadata": {},
   "outputs": [
    {
     "name": "stderr",
     "output_type": "stream",
     "text": [
      "/var/folders/xd/k9ytlnfx6zdgdrgw2l_grb780000gp/T/ipykernel_1439/1403979749.py:2: SettingWithCopyWarning: \n",
      "A value is trying to be set on a copy of a slice from a DataFrame.\n",
      "Try using .loc[row_indexer,col_indexer] = value instead\n",
      "\n",
      "See the caveats in the documentation: https://pandas.pydata.org/pandas-docs/stable/user_guide/indexing.html#returning-a-view-versus-a-copy\n",
      "  real_categories.loc[:, \"Main_Metal\"] = encoded\n"
     ]
    }
   ],
   "source": [
    "encoded, category_coded = pd.factorize(real_categories[\"Main_Metal\"])\n",
    "real_categories.loc[:, \"Main_Metal\"] = encoded"
   ]
  },
  {
   "cell_type": "code",
   "execution_count": 76,
   "id": "3c5be4b2-57fc-4cc7-a7fe-4558882203f3",
   "metadata": {},
   "outputs": [
    {
     "data": {
      "text/html": [
       "<div>\n",
       "<style scoped>\n",
       "    .dataframe tbody tr th:only-of-type {\n",
       "        vertical-align: middle;\n",
       "    }\n",
       "\n",
       "    .dataframe tbody tr th {\n",
       "        vertical-align: top;\n",
       "    }\n",
       "\n",
       "    .dataframe thead th {\n",
       "        text-align: right;\n",
       "    }\n",
       "</style>\n",
       "<table border=\"1\" class=\"dataframe\">\n",
       "  <thead>\n",
       "    <tr style=\"text-align: right;\">\n",
       "      <th></th>\n",
       "      <th>Order_Datetime</th>\n",
       "      <th>Order_ID</th>\n",
       "      <th>Product_ID</th>\n",
       "      <th>SKU_Quality</th>\n",
       "      <th>Category_ID</th>\n",
       "      <th>Category</th>\n",
       "      <th>Brand_ID</th>\n",
       "      <th>Price_USD</th>\n",
       "      <th>User_ID</th>\n",
       "      <th>Target_Gender</th>\n",
       "      <th>Main_Color</th>\n",
       "      <th>Main_Metal</th>\n",
       "      <th>Main_Gem</th>\n",
       "    </tr>\n",
       "  </thead>\n",
       "  <tbody>\n",
       "    <tr>\n",
       "      <th>1</th>\n",
       "      <td>2018-12-02 13:53:42 UTC</td>\n",
       "      <td>1925511016616034733</td>\n",
       "      <td>1842214461889315556</td>\n",
       "      <td>1</td>\n",
       "      <td>1.806829e+18</td>\n",
       "      <td>0</td>\n",
       "      <td>1.0</td>\n",
       "      <td>54.66</td>\n",
       "      <td>1.515916e+18</td>\n",
       "      <td>0</td>\n",
       "      <td>0</td>\n",
       "      <td>0</td>\n",
       "      <td>0</td>\n",
       "    </tr>\n",
       "    <tr>\n",
       "      <th>2</th>\n",
       "      <td>2018-12-02 17:44:02 UTC</td>\n",
       "      <td>1925626951238681511</td>\n",
       "      <td>1835566849434059453</td>\n",
       "      <td>1</td>\n",
       "      <td>1.806829e+18</td>\n",
       "      <td>0</td>\n",
       "      <td>0.0</td>\n",
       "      <td>88.90</td>\n",
       "      <td>1.515916e+18</td>\n",
       "      <td>0</td>\n",
       "      <td>1</td>\n",
       "      <td>0</td>\n",
       "      <td>1</td>\n",
       "    </tr>\n",
       "    <tr>\n",
       "      <th>3</th>\n",
       "      <td>2018-12-02 21:30:19 UTC</td>\n",
       "      <td>1925740842841014667</td>\n",
       "      <td>1873936840742928865</td>\n",
       "      <td>1</td>\n",
       "      <td>1.806829e+18</td>\n",
       "      <td>1</td>\n",
       "      <td>0.0</td>\n",
       "      <td>417.67</td>\n",
       "      <td>1.515916e+18</td>\n",
       "      <td>-1</td>\n",
       "      <td>1</td>\n",
       "      <td>0</td>\n",
       "      <td>2</td>\n",
       "    </tr>\n",
       "    <tr>\n",
       "      <th>4</th>\n",
       "      <td>2018-12-02 22:09:34 UTC</td>\n",
       "      <td>1925760595336888995</td>\n",
       "      <td>1835566854827934449</td>\n",
       "      <td>1</td>\n",
       "      <td>1.806829e+18</td>\n",
       "      <td>2</td>\n",
       "      <td>1.0</td>\n",
       "      <td>102.27</td>\n",
       "      <td>1.515916e+18</td>\n",
       "      <td>-1</td>\n",
       "      <td>1</td>\n",
       "      <td>0</td>\n",
       "      <td>-1</td>\n",
       "    </tr>\n",
       "    <tr>\n",
       "      <th>5</th>\n",
       "      <td>2018-12-02 22:09:34 UTC</td>\n",
       "      <td>1925760595336888995</td>\n",
       "      <td>1600021442638905547</td>\n",
       "      <td>1</td>\n",
       "      <td>1.806829e+18</td>\n",
       "      <td>2</td>\n",
       "      <td>0.0</td>\n",
       "      <td>150.55</td>\n",
       "      <td>1.515916e+18</td>\n",
       "      <td>-1</td>\n",
       "      <td>1</td>\n",
       "      <td>0</td>\n",
       "      <td>1</td>\n",
       "    </tr>\n",
       "  </tbody>\n",
       "</table>\n",
       "</div>"
      ],
      "text/plain": [
       "            Order_Datetime             Order_ID           Product_ID  \\\n",
       "1  2018-12-02 13:53:42 UTC  1925511016616034733  1842214461889315556   \n",
       "2  2018-12-02 17:44:02 UTC  1925626951238681511  1835566849434059453   \n",
       "3  2018-12-02 21:30:19 UTC  1925740842841014667  1873936840742928865   \n",
       "4  2018-12-02 22:09:34 UTC  1925760595336888995  1835566854827934449   \n",
       "5  2018-12-02 22:09:34 UTC  1925760595336888995  1600021442638905547   \n",
       "\n",
       "   SKU_Quality   Category_ID  Category  Brand_ID  Price_USD       User_ID  \\\n",
       "1            1  1.806829e+18         0       1.0      54.66  1.515916e+18   \n",
       "2            1  1.806829e+18         0       0.0      88.90  1.515916e+18   \n",
       "3            1  1.806829e+18         1       0.0     417.67  1.515916e+18   \n",
       "4            1  1.806829e+18         2       1.0     102.27  1.515916e+18   \n",
       "5            1  1.806829e+18         2       0.0     150.55  1.515916e+18   \n",
       "\n",
       "   Target_Gender  Main_Color  Main_Metal  Main_Gem  \n",
       "1              0           0           0         0  \n",
       "2              0           1           0         1  \n",
       "3             -1           1           0         2  \n",
       "4             -1           1           0        -1  \n",
       "5             -1           1           0         1  "
      ]
     },
     "execution_count": 76,
     "metadata": {},
     "output_type": "execute_result"
    }
   ],
   "source": [
    "real_categories.head()"
   ]
  },
  {
   "cell_type": "code",
   "execution_count": 77,
   "id": "4f538317-9beb-4e9e-a4c3-c301f6a10046",
   "metadata": {},
   "outputs": [
    {
     "name": "stdout",
     "output_type": "stream",
     "text": [
      "<class 'pandas.core.frame.DataFrame'>\n",
      "Int64Index: 80458 entries, 1 to 95909\n",
      "Data columns (total 13 columns):\n",
      " #   Column          Non-Null Count  Dtype  \n",
      "---  ------          --------------  -----  \n",
      " 0   Order_Datetime  80458 non-null  object \n",
      " 1   Order_ID        80458 non-null  int64  \n",
      " 2   Product_ID      80458 non-null  int64  \n",
      " 3   SKU_Quality     80458 non-null  int64  \n",
      " 4   Category_ID     80458 non-null  float64\n",
      " 5   Category        80458 non-null  int64  \n",
      " 6   Brand_ID        76991 non-null  float64\n",
      " 7   Price_USD       80458 non-null  float64\n",
      " 8   User_ID         80458 non-null  float64\n",
      " 9   Target_Gender   80458 non-null  int64  \n",
      " 10  Main_Color      80458 non-null  int64  \n",
      " 11  Main_Metal      80458 non-null  int64  \n",
      " 12  Main_Gem        80458 non-null  int64  \n",
      "dtypes: float64(4), int64(8), object(1)\n",
      "memory usage: 8.6+ MB\n"
     ]
    }
   ],
   "source": [
    "real_categories.info()"
   ]
  },
  {
   "cell_type": "code",
   "execution_count": 79,
   "id": "98abf893-8e0b-4cb0-8a6c-6cd8a48135e1",
   "metadata": {},
   "outputs": [
    {
     "data": {
      "text/html": [
       "<div>\n",
       "<style scoped>\n",
       "    .dataframe tbody tr th:only-of-type {\n",
       "        vertical-align: middle;\n",
       "    }\n",
       "\n",
       "    .dataframe tbody tr th {\n",
       "        vertical-align: top;\n",
       "    }\n",
       "\n",
       "    .dataframe thead th {\n",
       "        text-align: right;\n",
       "    }\n",
       "</style>\n",
       "<table border=\"1\" class=\"dataframe\">\n",
       "  <thead>\n",
       "    <tr style=\"text-align: right;\">\n",
       "      <th></th>\n",
       "      <th>SKU_Quality</th>\n",
       "      <th>Category_ID</th>\n",
       "      <th>Category</th>\n",
       "      <th>Brand_ID</th>\n",
       "      <th>Price_USD</th>\n",
       "      <th>Target_Gender</th>\n",
       "      <th>Main_Color</th>\n",
       "      <th>Main_Metal</th>\n",
       "      <th>Main_Gem</th>\n",
       "    </tr>\n",
       "  </thead>\n",
       "  <tbody>\n",
       "    <tr>\n",
       "      <th>SKU_Quality</th>\n",
       "      <td>NaN</td>\n",
       "      <td>NaN</td>\n",
       "      <td>NaN</td>\n",
       "      <td>NaN</td>\n",
       "      <td>NaN</td>\n",
       "      <td>NaN</td>\n",
       "      <td>NaN</td>\n",
       "      <td>NaN</td>\n",
       "      <td>NaN</td>\n",
       "    </tr>\n",
       "    <tr>\n",
       "      <th>Category_ID</th>\n",
       "      <td>NaN</td>\n",
       "      <td>1.000000</td>\n",
       "      <td>-0.886212</td>\n",
       "      <td>0.111328</td>\n",
       "      <td>-0.296495</td>\n",
       "      <td>0.106286</td>\n",
       "      <td>0.003396</td>\n",
       "      <td>0.157834</td>\n",
       "      <td>0.050483</td>\n",
       "    </tr>\n",
       "    <tr>\n",
       "      <th>Category</th>\n",
       "      <td>NaN</td>\n",
       "      <td>-0.886212</td>\n",
       "      <td>1.000000</td>\n",
       "      <td>-0.111680</td>\n",
       "      <td>0.267257</td>\n",
       "      <td>-0.124101</td>\n",
       "      <td>-0.059402</td>\n",
       "      <td>0.105056</td>\n",
       "      <td>-0.082944</td>\n",
       "    </tr>\n",
       "    <tr>\n",
       "      <th>Brand_ID</th>\n",
       "      <td>NaN</td>\n",
       "      <td>0.111328</td>\n",
       "      <td>-0.111680</td>\n",
       "      <td>1.000000</td>\n",
       "      <td>-0.018428</td>\n",
       "      <td>0.623701</td>\n",
       "      <td>0.100816</td>\n",
       "      <td>0.003835</td>\n",
       "      <td>0.076277</td>\n",
       "    </tr>\n",
       "    <tr>\n",
       "      <th>Price_USD</th>\n",
       "      <td>NaN</td>\n",
       "      <td>-0.296495</td>\n",
       "      <td>0.267257</td>\n",
       "      <td>-0.018428</td>\n",
       "      <td>1.000000</td>\n",
       "      <td>0.049532</td>\n",
       "      <td>0.013177</td>\n",
       "      <td>-0.173050</td>\n",
       "      <td>-0.006630</td>\n",
       "    </tr>\n",
       "    <tr>\n",
       "      <th>Target_Gender</th>\n",
       "      <td>NaN</td>\n",
       "      <td>0.106286</td>\n",
       "      <td>-0.124101</td>\n",
       "      <td>0.623701</td>\n",
       "      <td>0.049532</td>\n",
       "      <td>1.000000</td>\n",
       "      <td>0.056950</td>\n",
       "      <td>-0.046436</td>\n",
       "      <td>0.166125</td>\n",
       "    </tr>\n",
       "    <tr>\n",
       "      <th>Main_Color</th>\n",
       "      <td>NaN</td>\n",
       "      <td>0.003396</td>\n",
       "      <td>-0.059402</td>\n",
       "      <td>0.100816</td>\n",
       "      <td>0.013177</td>\n",
       "      <td>0.056950</td>\n",
       "      <td>1.000000</td>\n",
       "      <td>-0.238080</td>\n",
       "      <td>0.136232</td>\n",
       "    </tr>\n",
       "    <tr>\n",
       "      <th>Main_Metal</th>\n",
       "      <td>NaN</td>\n",
       "      <td>0.157834</td>\n",
       "      <td>0.105056</td>\n",
       "      <td>0.003835</td>\n",
       "      <td>-0.173050</td>\n",
       "      <td>-0.046436</td>\n",
       "      <td>-0.238080</td>\n",
       "      <td>1.000000</td>\n",
       "      <td>-0.055603</td>\n",
       "    </tr>\n",
       "    <tr>\n",
       "      <th>Main_Gem</th>\n",
       "      <td>NaN</td>\n",
       "      <td>0.050483</td>\n",
       "      <td>-0.082944</td>\n",
       "      <td>0.076277</td>\n",
       "      <td>-0.006630</td>\n",
       "      <td>0.166125</td>\n",
       "      <td>0.136232</td>\n",
       "      <td>-0.055603</td>\n",
       "      <td>1.000000</td>\n",
       "    </tr>\n",
       "  </tbody>\n",
       "</table>\n",
       "</div>"
      ],
      "text/plain": [
       "               SKU_Quality  Category_ID  Category  Brand_ID  Price_USD  \\\n",
       "SKU_Quality            NaN          NaN       NaN       NaN        NaN   \n",
       "Category_ID            NaN     1.000000 -0.886212  0.111328  -0.296495   \n",
       "Category               NaN    -0.886212  1.000000 -0.111680   0.267257   \n",
       "Brand_ID               NaN     0.111328 -0.111680  1.000000  -0.018428   \n",
       "Price_USD              NaN    -0.296495  0.267257 -0.018428   1.000000   \n",
       "Target_Gender          NaN     0.106286 -0.124101  0.623701   0.049532   \n",
       "Main_Color             NaN     0.003396 -0.059402  0.100816   0.013177   \n",
       "Main_Metal             NaN     0.157834  0.105056  0.003835  -0.173050   \n",
       "Main_Gem               NaN     0.050483 -0.082944  0.076277  -0.006630   \n",
       "\n",
       "               Target_Gender  Main_Color  Main_Metal  Main_Gem  \n",
       "SKU_Quality              NaN         NaN         NaN       NaN  \n",
       "Category_ID         0.106286    0.003396    0.157834  0.050483  \n",
       "Category           -0.124101   -0.059402    0.105056 -0.082944  \n",
       "Brand_ID            0.623701    0.100816    0.003835  0.076277  \n",
       "Price_USD           0.049532    0.013177   -0.173050 -0.006630  \n",
       "Target_Gender       1.000000    0.056950   -0.046436  0.166125  \n",
       "Main_Color          0.056950    1.000000   -0.238080  0.136232  \n",
       "Main_Metal         -0.046436   -0.238080    1.000000 -0.055603  \n",
       "Main_Gem            0.166125    0.136232   -0.055603  1.000000  "
      ]
     },
     "execution_count": 79,
     "metadata": {},
     "output_type": "execute_result"
    }
   ],
   "source": [
    "correlations = real_categories.drop(labels = [\"Order_Datetime\", \"User_ID\", \"Order_ID\", \"Product_ID\"], axis = 1).corr(method = \"spearman\")\n",
    "correlations"
   ]
  },
  {
   "cell_type": "code",
   "execution_count": 81,
   "id": "a229b914-e344-480b-a934-d10d479ef428",
   "metadata": {},
   "outputs": [
    {
     "data": {
      "image/png": "[encoded data removed]",
      "text/plain": [
       "<Figure size 1000x700 with 2 Axes>"
      ]
     },
     "metadata": {},
     "output_type": "display_data"
    }
   ],
   "source": [
    "# Visualize Correlation\n",
    "plt.figure(figsize = (10, 7))\n",
    "sns.heatmap(correlations, annot = True, center = .3)\n",
    "plt.show(); plt.close()"
   ]
  },
  {
   "cell_type": "code",
   "execution_count": 82,
   "id": "0d24d3c6-1dd6-4ce6-ae24-fd2557a4a302",
   "metadata": {},
   "outputs": [],
   "source": [
    "#set correlation limits\n",
    "upper = 1\n",
    "lower = .2"
   ]
  },
  {
   "cell_type": "code",
   "execution_count": 87,
   "id": "1266c3ee-db84-4712-9c54-a96fda1b0056",
   "metadata": {},
   "outputs": [
    {
     "data": {
      "text/plain": [
       "{'SKU_Quality': [],\n",
       " 'Category_ID': [],\n",
       " 'Category': ['Price_USD'],\n",
       " 'Brand_ID': ['Target_Gender'],\n",
       " 'Price_USD': ['Category'],\n",
       " 'Target_Gender': ['Brand_ID'],\n",
       " 'Main_Color': [],\n",
       " 'Main_Metal': [],\n",
       " 'Main_Gem': []}"
      ]
     },
     "execution_count": 87,
     "metadata": {},
     "output_type": "execute_result"
    }
   ],
   "source": [
    "# Explicitly obtain the correlated features\n",
    "correlated_column = {\n",
    "    column: correlations[(correlations[column] > lower) & (upper > correlations[column])].index.tolist()\n",
    "    for column in correlations.columns\n",
    "}\n",
    "correlated_column"
   ]
  },
  {
   "cell_type": "markdown",
   "id": "5120269e-4922-442e-8bac-7407e320ba93",
   "metadata": {},
   "source": [
    "### Data Implication\n",
    "\n",
    "Implied by our findings above, we can say the following:\n",
    "1. Missing Values: There are a lot of missing values in the dataset. This may be fixed either by value imputation or missing ness encoding\n",
    "2. Data corruption: Some variables(e.g, jewelry_category) contain corrupt values\n",
    "3. Rare values: Some feature have some valiues that occur rarely. A prime instance of this is the Target_Gender column, where the male gender is rarely represented. Sometimes, there are data issues. Other times, like in this case, this can be a true reflection of the distribution from which the data is geberated.\n",
    "4. Low Cardinality or feature invarience: The SKU_Quantity feature only has one unique value(e.g 1). This feature provides no new information.\n",
    "5. Target skew: The target variable is hightly right-skewed. Thus can represent an issue during training.\n",
    "6. Correlation: Ofr the most part, the feature exhibit low multicolinearity, hence ensuring feature dependence. However the target variable exhibit a low correlation with the independent variables."
   ]
  },
  {
   "cell_type": "code",
   "execution_count": null,
   "id": "6f3d361e-5ab3-4dd4-aad3-ca02aed2bbfe",
   "metadata": {},
   "outputs": [],
   "source": []
  },
  {
   "cell_type": "markdown",
   "id": "0089c482-486d-4648-af5c-422b3f5e0087",
   "metadata": {},
   "source": [
    "### Data Preparation"
   ]
  },
  {
   "cell_type": "code",
   "execution_count": 88,
   "id": "b283c254-8f09-4c04-8094-c9df67ed331f",
   "metadata": {},
   "outputs": [],
   "source": [
    "# columns to eliminate\n",
    "columns_to_eliminate = [\n",
    "    \"SKU_Quality\",\n",
    "    \"Order_ID\",\n",
    "    \"Product_ID\",\n",
    "    \"User_ID\",\n",
    "    \"Category_ID\"\n",
    "]"
   ]
  },
  {
   "cell_type": "code",
   "execution_count": 89,
   "id": "85cee1f3-c03f-499a-b8a9-68930ff13c0a",
   "metadata": {},
   "outputs": [],
   "source": [
    "df.drop(labels = columns_to_eliminate, axis = 1, inplace = True)"
   ]
  },
  {
   "cell_type": "code",
   "execution_count": 90,
   "id": "067ac173-cef7-463f-aa45-1b660dfde1b4",
   "metadata": {},
   "outputs": [
    {
     "data": {
      "text/plain": [
       "(95910, 8)"
      ]
     },
     "execution_count": 90,
     "metadata": {},
     "output_type": "execute_result"
    }
   ],
   "source": [
    "df.shape"
   ]
  },
  {
   "cell_type": "code",
   "execution_count": 92,
   "id": "cd12c558-c1c6-4654-85ec-6e72b626d7b0",
   "metadata": {},
   "outputs": [],
   "source": [
    "df.drop(labels = [\"Order_Datetime\"], axis = 1, inplace = True)"
   ]
  },
  {
   "cell_type": "code",
   "execution_count": 93,
   "id": "14cbb105-9ee5-4711-990c-3330af9364dd",
   "metadata": {},
   "outputs": [
    {
     "data": {
      "text/html": [
       "<div>\n",
       "<style scoped>\n",
       "    .dataframe tbody tr th:only-of-type {\n",
       "        vertical-align: middle;\n",
       "    }\n",
       "\n",
       "    .dataframe tbody tr th {\n",
       "        vertical-align: top;\n",
       "    }\n",
       "\n",
       "    .dataframe thead th {\n",
       "        text-align: right;\n",
       "    }\n",
       "</style>\n",
       "<table border=\"1\" class=\"dataframe\">\n",
       "  <thead>\n",
       "    <tr style=\"text-align: right;\">\n",
       "      <th></th>\n",
       "      <th>Category</th>\n",
       "      <th>Brand_ID</th>\n",
       "      <th>Price_USD</th>\n",
       "      <th>Target_Gender</th>\n",
       "      <th>Main_Color</th>\n",
       "      <th>Main_Metal</th>\n",
       "      <th>Main_Gem</th>\n",
       "    </tr>\n",
       "  </thead>\n",
       "  <tbody>\n",
       "    <tr>\n",
       "      <th>0</th>\n",
       "      <td>NaN</td>\n",
       "      <td>NaN</td>\n",
       "      <td>212.14</td>\n",
       "      <td>NaN</td>\n",
       "      <td>yellow</td>\n",
       "      <td>gold</td>\n",
       "      <td>NaN</td>\n",
       "    </tr>\n",
       "    <tr>\n",
       "      <th>1</th>\n",
       "      <td>jewelry.pendant</td>\n",
       "      <td>1.0</td>\n",
       "      <td>54.66</td>\n",
       "      <td>f</td>\n",
       "      <td>white</td>\n",
       "      <td>gold</td>\n",
       "      <td>sapphire</td>\n",
       "    </tr>\n",
       "    <tr>\n",
       "      <th>2</th>\n",
       "      <td>jewelry.pendant</td>\n",
       "      <td>0.0</td>\n",
       "      <td>88.90</td>\n",
       "      <td>f</td>\n",
       "      <td>red</td>\n",
       "      <td>gold</td>\n",
       "      <td>diamond</td>\n",
       "    </tr>\n",
       "    <tr>\n",
       "      <th>3</th>\n",
       "      <td>jewelry.necklace</td>\n",
       "      <td>0.0</td>\n",
       "      <td>417.67</td>\n",
       "      <td>NaN</td>\n",
       "      <td>red</td>\n",
       "      <td>gold</td>\n",
       "      <td>amethyst</td>\n",
       "    </tr>\n",
       "    <tr>\n",
       "      <th>4</th>\n",
       "      <td>jewelry.earring</td>\n",
       "      <td>1.0</td>\n",
       "      <td>102.27</td>\n",
       "      <td>NaN</td>\n",
       "      <td>red</td>\n",
       "      <td>gold</td>\n",
       "      <td>NaN</td>\n",
       "    </tr>\n",
       "  </tbody>\n",
       "</table>\n",
       "</div>"
      ],
      "text/plain": [
       "           Category  Brand_ID  Price_USD Target_Gender Main_Color Main_Metal  \\\n",
       "0               NaN       NaN     212.14           NaN     yellow       gold   \n",
       "1   jewelry.pendant       1.0      54.66             f      white       gold   \n",
       "2   jewelry.pendant       0.0      88.90             f        red       gold   \n",
       "3  jewelry.necklace       0.0     417.67           NaN        red       gold   \n",
       "4   jewelry.earring       1.0     102.27           NaN        red       gold   \n",
       "\n",
       "   Main_Gem  \n",
       "0       NaN  \n",
       "1  sapphire  \n",
       "2   diamond  \n",
       "3  amethyst  \n",
       "4       NaN  "
      ]
     },
     "execution_count": 93,
     "metadata": {},
     "output_type": "execute_result"
    }
   ],
   "source": [
    "df.head()"
   ]
  },
  {
   "cell_type": "code",
   "execution_count": 94,
   "id": "66b02f9d-e8b9-4621-b70a-bd4f6f204f19",
   "metadata": {},
   "outputs": [],
   "source": [
    "df = df.loc[df[\"Category\"].isin(categories), :]"
   ]
  },
  {
   "cell_type": "code",
   "execution_count": 95,
   "id": "5bfea76f-98a3-4335-bb94-2ee3d18a5c0c",
   "metadata": {},
   "outputs": [
    {
     "data": {
      "text/plain": [
       "(80458, 7)"
      ]
     },
     "execution_count": 95,
     "metadata": {},
     "output_type": "execute_result"
    }
   ],
   "source": [
    "df.shape"
   ]
  },
  {
   "cell_type": "code",
   "execution_count": 96,
   "id": "4c53b8d7-fb18-4575-bd3c-6791b32eadb4",
   "metadata": {},
   "outputs": [],
   "source": [
    "from sklearn.model_selection import train_test_split"
   ]
  },
  {
   "cell_type": "code",
   "execution_count": 97,
   "id": "06510616-b08d-41af-bf2c-66821ac6b7c9",
   "metadata": {},
   "outputs": [],
   "source": [
    "# Separate features from labels\n",
    "x, y = df.drop(labels = [\"Price_USD\"], axis = 1), df[\"Price_USD\"]"
   ]
  },
  {
   "cell_type": "code",
   "execution_count": 118,
   "id": "7343999f-6777-403d-8602-679ce4fc9ba5",
   "metadata": {},
   "outputs": [],
   "source": [
    "# Create test and train splits\n",
    "x_train, x_test, y_train, y_test = train_test_split(x, y, test_size = .1)"
   ]
  },
  {
   "cell_type": "code",
   "execution_count": 125,
   "id": "e2047d1d-cde0-4d39-b22c-146a520a789d",
   "metadata": {},
   "outputs": [
    {
     "data": {
      "text/html": [
       "<div>\n",
       "<style scoped>\n",
       "    .dataframe tbody tr th:only-of-type {\n",
       "        vertical-align: middle;\n",
       "    }\n",
       "\n",
       "    .dataframe tbody tr th {\n",
       "        vertical-align: top;\n",
       "    }\n",
       "\n",
       "    .dataframe thead th {\n",
       "        text-align: right;\n",
       "    }\n",
       "</style>\n",
       "<table border=\"1\" class=\"dataframe\">\n",
       "  <thead>\n",
       "    <tr style=\"text-align: right;\">\n",
       "      <th></th>\n",
       "      <th>Category</th>\n",
       "      <th>Brand_ID</th>\n",
       "      <th>Target_Gender</th>\n",
       "      <th>Main_Color</th>\n",
       "      <th>Main_Metal</th>\n",
       "      <th>Main_Gem</th>\n",
       "    </tr>\n",
       "  </thead>\n",
       "  <tbody>\n",
       "    <tr>\n",
       "      <th>64746</th>\n",
       "      <td>jewelry.earring</td>\n",
       "      <td>0.0</td>\n",
       "      <td>f</td>\n",
       "      <td>red</td>\n",
       "      <td>gold</td>\n",
       "      <td>NaN</td>\n",
       "    </tr>\n",
       "    <tr>\n",
       "      <th>19422</th>\n",
       "      <td>jewelry.pendant</td>\n",
       "      <td>2.0</td>\n",
       "      <td>f</td>\n",
       "      <td>red</td>\n",
       "      <td>gold</td>\n",
       "      <td>topaz</td>\n",
       "    </tr>\n",
       "    <tr>\n",
       "      <th>70978</th>\n",
       "      <td>jewelry.pendant</td>\n",
       "      <td>0.0</td>\n",
       "      <td>NaN</td>\n",
       "      <td>red</td>\n",
       "      <td>gold</td>\n",
       "      <td>diamond</td>\n",
       "    </tr>\n",
       "    <tr>\n",
       "      <th>67987</th>\n",
       "      <td>jewelry.ring</td>\n",
       "      <td>1.0</td>\n",
       "      <td>f</td>\n",
       "      <td>red</td>\n",
       "      <td>gold</td>\n",
       "      <td>diamond</td>\n",
       "    </tr>\n",
       "    <tr>\n",
       "      <th>19387</th>\n",
       "      <td>jewelry.earring</td>\n",
       "      <td>1.0</td>\n",
       "      <td>f</td>\n",
       "      <td>white</td>\n",
       "      <td>gold</td>\n",
       "      <td>diamond</td>\n",
       "    </tr>\n",
       "  </tbody>\n",
       "</table>\n",
       "</div>"
      ],
      "text/plain": [
       "              Category  Brand_ID Target_Gender Main_Color Main_Metal Main_Gem\n",
       "64746  jewelry.earring       0.0             f        red       gold      NaN\n",
       "19422  jewelry.pendant       2.0             f        red       gold    topaz\n",
       "70978  jewelry.pendant       0.0           NaN        red       gold  diamond\n",
       "67987     jewelry.ring       1.0             f        red       gold  diamond\n",
       "19387  jewelry.earring       1.0             f      white       gold  diamond"
      ]
     },
     "execution_count": 125,
     "metadata": {},
     "output_type": "execute_result"
    }
   ],
   "source": [
    "x_train.head()"
   ]
  },
  {
   "cell_type": "code",
   "execution_count": 126,
   "id": "cc5d9777-4395-47ae-bc95-3851b465069e",
   "metadata": {},
   "outputs": [
    {
     "data": {
      "text/plain": [
       "64746    254.66\n",
       "19422     95.75\n",
       "70978    164.25\n",
       "67987    198.49\n",
       "19387    547.81\n",
       "Name: Price_USD, dtype: float64"
      ]
     },
     "execution_count": 126,
     "metadata": {},
     "output_type": "execute_result"
    }
   ],
   "source": [
    "y_train.head()"
   ]
  },
  {
   "cell_type": "markdown",
   "id": "ed63b846-40e7-4d03-b799-24eb20569323",
   "metadata": {},
   "source": [
    "### Data Modelling\n",
    "We will be making use of the following models\n",
    "1. Linear regression\n",
    "2. Extremely Random forest\n",
    "3. Adaptive boosting(AdaBoost), and\n",
    "4. Catboost"
   ]
  },
  {
   "cell_type": "code",
   "execution_count": 119,
   "id": "48806c52-cb6b-4963-9b68-b1b2568e137b",
   "metadata": {},
   "outputs": [],
   "source": [
    "from sklearn.preprocessing import OrdinalEncoder, LabelEncoder, OneHotEncoder\n",
    "from sklearn.compose import TransformedTargetRegressor, ColumnTransformer\n",
    "from sklearn.impute import SimpleImputer\n",
    "\n",
    "from sklearn.linear_model import LinearRegression\n",
    "from sklearn.ensemble import AdaBoostRegressor, ExtraTreesRegressor\n",
    "#from catboost import CatBoostRegressor"
   ]
  },
  {
   "cell_type": "code",
   "execution_count": 120,
   "id": "974c54b8-43e0-4b00-a72a-a9df6b4ecaf1",
   "metadata": {},
   "outputs": [],
   "source": [
    "from sklearn.pipeline import Pipeline"
   ]
  },
  {
   "cell_type": "code",
   "execution_count": 136,
   "id": "ab9a18c6-85d8-4f48-8ec7-7823049fddd2",
   "metadata": {},
   "outputs": [],
   "source": [
    "def generate_pipeline(model, column_indices, categorical_indices, fill_missing = True, one_hot = True, label_encode = False):\n",
    "    first_transformer = ColumnTransformer(\n",
    "        transformers = [\n",
    "            (\"imputer\", SimpleImputer(strategy = \"most_frequent\"), column_indices)\n",
    "        ],\n",
    "        remainder = \"passthrough\",\n",
    "        sparse_threshold = 0.\n",
    "    )\n",
    "    \n",
    "    second_transformer = ColumnTransformer(\n",
    "        transformers = [\n",
    "            (\"one_hot\", OneHotEncoder(), categorical_indices)\n",
    "        ],\n",
    "        remainder = \"passthrough\",\n",
    "        sparse_threshold = 0.\n",
    "    )\n",
    "    \n",
    "    third_transformer = ColumnTransformer(\n",
    "        transformers = [\n",
    "            (\"ordinal\", OrdinalEncoder(), categorical_indices)\n",
    "        ],\n",
    "        remainder = \"passthrough\",\n",
    "        sparse_threshold = 0.\n",
    "    )\n",
    "    \n",
    "    steps = []\n",
    "    \n",
    "    if fill_missing:\n",
    "        steps.append((\"first\", first_transformer))\n",
    "        \n",
    "    if label_encode:\n",
    "        steps.append((\"third\", third_transformer))\n",
    "        \n",
    "    if one_hot:\n",
    "        steps.append((\"second\", second_transformer))\n",
    "        \n",
    "    steps.append((\"model\", model))\n",
    "        \n",
    "    model_pipe = Pipeline(steps = steps)\n",
    "    \n",
    "    return model_pipe"
   ]
  },
  {
   "cell_type": "code",
   "execution_count": 129,
   "id": "b84c212d-e18e-4805-9a1a-79d6db6573ef",
   "metadata": {},
   "outputs": [
    {
     "data": {
      "text/html": [
       "<div>\n",
       "<style scoped>\n",
       "    .dataframe tbody tr th:only-of-type {\n",
       "        vertical-align: middle;\n",
       "    }\n",
       "\n",
       "    .dataframe tbody tr th {\n",
       "        vertical-align: top;\n",
       "    }\n",
       "\n",
       "    .dataframe thead th {\n",
       "        text-align: right;\n",
       "    }\n",
       "</style>\n",
       "<table border=\"1\" class=\"dataframe\">\n",
       "  <thead>\n",
       "    <tr style=\"text-align: right;\">\n",
       "      <th></th>\n",
       "      <th>Category</th>\n",
       "      <th>Brand_ID</th>\n",
       "      <th>Target_Gender</th>\n",
       "      <th>Main_Color</th>\n",
       "      <th>Main_Metal</th>\n",
       "      <th>Main_Gem</th>\n",
       "    </tr>\n",
       "  </thead>\n",
       "  <tbody>\n",
       "    <tr>\n",
       "      <th>1</th>\n",
       "      <td>jewelry.pendant</td>\n",
       "      <td>1.0</td>\n",
       "      <td>f</td>\n",
       "      <td>white</td>\n",
       "      <td>gold</td>\n",
       "      <td>sapphire</td>\n",
       "    </tr>\n",
       "    <tr>\n",
       "      <th>2</th>\n",
       "      <td>jewelry.pendant</td>\n",
       "      <td>0.0</td>\n",
       "      <td>f</td>\n",
       "      <td>red</td>\n",
       "      <td>gold</td>\n",
       "      <td>diamond</td>\n",
       "    </tr>\n",
       "    <tr>\n",
       "      <th>3</th>\n",
       "      <td>jewelry.necklace</td>\n",
       "      <td>0.0</td>\n",
       "      <td>NaN</td>\n",
       "      <td>red</td>\n",
       "      <td>gold</td>\n",
       "      <td>amethyst</td>\n",
       "    </tr>\n",
       "    <tr>\n",
       "      <th>4</th>\n",
       "      <td>jewelry.earring</td>\n",
       "      <td>1.0</td>\n",
       "      <td>NaN</td>\n",
       "      <td>red</td>\n",
       "      <td>gold</td>\n",
       "      <td>NaN</td>\n",
       "    </tr>\n",
       "    <tr>\n",
       "      <th>5</th>\n",
       "      <td>jewelry.earring</td>\n",
       "      <td>0.0</td>\n",
       "      <td>NaN</td>\n",
       "      <td>red</td>\n",
       "      <td>gold</td>\n",
       "      <td>diamond</td>\n",
       "    </tr>\n",
       "  </tbody>\n",
       "</table>\n",
       "</div>"
      ],
      "text/plain": [
       "           Category  Brand_ID Target_Gender Main_Color Main_Metal  Main_Gem\n",
       "1   jewelry.pendant       1.0             f      white       gold  sapphire\n",
       "2   jewelry.pendant       0.0             f        red       gold   diamond\n",
       "3  jewelry.necklace       0.0           NaN        red       gold  amethyst\n",
       "4   jewelry.earring       1.0           NaN        red       gold       NaN\n",
       "5   jewelry.earring       0.0           NaN        red       gold   diamond"
      ]
     },
     "execution_count": 129,
     "metadata": {},
     "output_type": "execute_result"
    }
   ],
   "source": [
    "x.head()"
   ]
  },
  {
   "cell_type": "code",
   "execution_count": 130,
   "id": "e45b2573-9686-42de-bd2e-9b02fe4aa30a",
   "metadata": {},
   "outputs": [
    {
     "data": {
      "text/plain": [
       "[0, 2, 3, 4, 5]"
      ]
     },
     "execution_count": 130,
     "metadata": {},
     "output_type": "execute_result"
    }
   ],
   "source": [
    "# Generate indices\n",
    "columns = x.columns.tolist()\n",
    "\n",
    "columns_indices = [columns.index(c) for c in columns]\n",
    "categorical_features = [c for c in columns if c not in [\"Brand_ID\"]]\n",
    "categorical_indices = [columns.index(c) for c in categorical_features]\n",
    "categorical_indices\n",
    "                        "
   ]
  },
  {
   "cell_type": "code",
   "execution_count": 113,
   "id": "d6e84295-9ad3-4473-b7d1-816bd2dd8e0d",
   "metadata": {},
   "outputs": [
    {
     "ename": "NameError",
     "evalue": "name 'CatBoostRegressor' is not defined",
     "output_type": "error",
     "traceback": [
      "\u001b[0;31m---------------------------------------------------------------------------\u001b[0m",
      "\u001b[0;31mNameError\u001b[0m                                 Traceback (most recent call last)",
      "\u001b[0;32m/var/folders/xd/k9ytlnfx6zdgdrgw2l_grb780000gp/T/ipykernel_1439/3812323743.py\u001b[0m in \u001b[0;36m<module>\u001b[0;34m\u001b[0m\n\u001b[1;32m      1\u001b[0m \u001b[0;31m# Catboost pipeline\u001b[0m\u001b[0;34m\u001b[0m\u001b[0;34m\u001b[0m\u001b[0m\n\u001b[1;32m      2\u001b[0m cat_pipe = generate_pipeline(\n\u001b[0;32m----> 3\u001b[0;31m     \u001b[0mCatBoostRegressor\u001b[0m\u001b[0;34m(\u001b[0m\u001b[0mloss_function\u001b[0m \u001b[0;34m=\u001b[0m \u001b[0;34m\"RMSE\"\u001b[0m\u001b[0;34m,\u001b[0m \u001b[0miterations\u001b[0m \u001b[0;34m=\u001b[0m \u001b[0;36m10000\u001b[0m\u001b[0;34m,\u001b[0m \u001b[0mlearning_rate\u001b[0m \u001b[0;34m=\u001b[0m \u001b[0;36m0.1\u001b[0m\u001b[0;34m,\u001b[0m \u001b[0mone_hot_max_size\u001b[0m \u001b[0;34m=\u001b[0m \u001b[0;36m2\u001b[0m\u001b[0;34m)\u001b[0m\u001b[0;34m,\u001b[0m\u001b[0;34m\u001b[0m\u001b[0;34m\u001b[0m\u001b[0m\n\u001b[0m\u001b[1;32m      4\u001b[0m     \u001b[0mcolumns_indices\u001b[0m\u001b[0;34m,\u001b[0m\u001b[0;34m\u001b[0m\u001b[0;34m\u001b[0m\u001b[0m\n\u001b[1;32m      5\u001b[0m     \u001b[0mcategorical_indices\u001b[0m\u001b[0;34m,\u001b[0m\u001b[0;34m\u001b[0m\u001b[0;34m\u001b[0m\u001b[0m\n",
      "\u001b[0;31mNameError\u001b[0m: name 'CatBoostRegressor' is not defined"
     ]
    }
   ],
   "source": [
    "# Catboost pipeline\n",
    "cat_pipe = generate_pipeline(\n",
    "    CatBoostRegressor(loss_function = \"RMSE\", iterations = 10000, learning_rate = 0.1, one_hot_max_size = 2),\n",
    "    columns_indices,\n",
    "    categorical_indices,\n",
    "    filling_missing = False, one_hot = False, label_encode = True\n",
    ")"
   ]
  },
  {
   "cell_type": "code",
   "execution_count": 137,
   "id": "293df5b6-1128-4947-a223-ff1117b144dc",
   "metadata": {},
   "outputs": [],
   "source": [
    "# Linear regression pipeline\n",
    "lin_pipe = generate_pipeline(\n",
    "    LinearRegression(),\n",
    "    columns_indices,\n",
    "    categorical_indices,\n",
    "    fill_missing = False, one_hot = False, label_encode = True\n",
    ")"
   ]
  },
  {
   "cell_type": "code",
   "execution_count": 139,
   "id": "87454d78-cf65-4938-a121-2aad0655e903",
   "metadata": {},
   "outputs": [],
   "source": [
    "#Adaboost pipeline\n",
    "ada_pipe = generate_pipeline(\n",
    "    AdaBoostRegressor(loss = \"exponential\", n_estimators = 1000, learning_rate = .01),\n",
    "    columns_indices,\n",
    "    categorical_indices,\n",
    "    fill_missing = False, one_hot = False, label_encode = True\n",
    ")"
   ]
  },
  {
   "cell_type": "code",
   "execution_count": 141,
   "id": "025cefd4-d613-42c6-8194-99ce4e374a56",
   "metadata": {},
   "outputs": [],
   "source": [
    "# Extra Trees\n",
    "extra_pipe = generate_pipeline(\n",
    "    ExtraTreesRegressor(criterion = \"friedman_mse\", n_estimators = 1000, bootstrap = True),\n",
    "    columns_indices,\n",
    "    categorical_indices,\n",
    "    fill_missing = False, one_hot = False, label_encode = True\n",
    ")"
   ]
  },
  {
   "cell_type": "code",
   "execution_count": 112,
   "id": "d7cddbc3-389f-4253-912f-d9e58807df42",
   "metadata": {},
   "outputs": [],
   "source": [
    "from sklearn.preprocessing import PowerTransformer"
   ]
  },
  {
   "cell_type": "code",
   "execution_count": 143,
   "id": "4460217f-ec7a-4394-b2ca-a87155d6b958",
   "metadata": {},
   "outputs": [],
   "source": [
    "# Transform Target\n",
    "#cat_pipe = TransformedTargetRegressor(regressor = cat_pipe, transformer = PowerTransformer(method = \"box-cox\"))\n",
    "ada_pipe = TransformedTargetRegressor(regressor = ada_pipe, transformer = PowerTransformer(method = \"box-cox\"))\n",
    "lin_pipe = TransformedTargetRegressor(regressor = lin_pipe, transformer = PowerTransformer(method = \"box-cox\"))\n",
    "extra_pipe = TransformedTargetRegressor(regressor = extra_pipe, transformer = PowerTransformer(method = \"box-cox\"))"
   ]
  },
  {
   "cell_type": "code",
   "execution_count": null,
   "id": "a857e63f-5654-45cc-bc0a-b40c330658f7",
   "metadata": {},
   "outputs": [],
   "source": [
    "#Fit catboost\n",
    "cat_pipe.fit(x_train, y_train)"
   ]
  },
  {
   "cell_type": "code",
   "execution_count": 144,
   "id": "d9eea02f-d370-4a3c-9a8c-dd819018fb98",
   "metadata": {},
   "outputs": [
    {
     "ename": "ValueError",
     "evalue": "Input X contains NaN.\nLinearRegression does not accept missing values encoded as NaN natively. For supervised learning, you might want to consider sklearn.ensemble.HistGradientBoostingClassifier and Regressor which accept missing values encoded as NaNs natively. Alternatively, it is possible to preprocess the data, for instance by using an imputer transformer in a pipeline or drop samples with missing values. See https://scikit-learn.org/stable/modules/impute.html You can find a list of all estimators that handle NaN values at the following page: https://scikit-learn.org/stable/modules/impute.html#estimators-that-handle-nan-values",
     "output_type": "error",
     "traceback": [
      "\u001b[0;31m---------------------------------------------------------------------------\u001b[0m",
      "\u001b[0;31mValueError\u001b[0m                                Traceback (most recent call last)",
      "\u001b[0;32m/var/folders/xd/k9ytlnfx6zdgdrgw2l_grb780000gp/T/ipykernel_1439/3685321265.py\u001b[0m in \u001b[0;36m<module>\u001b[0;34m\u001b[0m\n\u001b[1;32m      1\u001b[0m \u001b[0;31m# Fit LR\u001b[0m\u001b[0;34m\u001b[0m\u001b[0;34m\u001b[0m\u001b[0m\n\u001b[0;32m----> 2\u001b[0;31m \u001b[0mlin_pipe\u001b[0m\u001b[0;34m.\u001b[0m\u001b[0mfit\u001b[0m\u001b[0;34m(\u001b[0m\u001b[0mx_train\u001b[0m\u001b[0;34m,\u001b[0m \u001b[0my_train\u001b[0m\u001b[0;34m)\u001b[0m\u001b[0;34m\u001b[0m\u001b[0;34m\u001b[0m\u001b[0m\n\u001b[0m",
      "\u001b[0;32m/opt/anaconda3/lib/python3.9/site-packages/sklearn/base.py\u001b[0m in \u001b[0;36mwrapper\u001b[0;34m(estimator, *args, **kwargs)\u001b[0m\n\u001b[1;32m   1387\u001b[0m                 )\n\u001b[1;32m   1388\u001b[0m             ):\n\u001b[0;32m-> 1389\u001b[0;31m                 \u001b[0;32mreturn\u001b[0m \u001b[0mfit_method\u001b[0m\u001b[0;34m(\u001b[0m\u001b[0mestimator\u001b[0m\u001b[0;34m,\u001b[0m \u001b[0;34m*\u001b[0m\u001b[0margs\u001b[0m\u001b[0;34m,\u001b[0m \u001b[0;34m**\u001b[0m\u001b[0mkwargs\u001b[0m\u001b[0;34m)\u001b[0m\u001b[0;34m\u001b[0m\u001b[0;34m\u001b[0m\u001b[0m\n\u001b[0m\u001b[1;32m   1390\u001b[0m \u001b[0;34m\u001b[0m\u001b[0m\n\u001b[1;32m   1391\u001b[0m         \u001b[0;32mreturn\u001b[0m \u001b[0mwrapper\u001b[0m\u001b[0;34m\u001b[0m\u001b[0;34m\u001b[0m\u001b[0m\n",
      "\u001b[0;32m/opt/anaconda3/lib/python3.9/site-packages/sklearn/compose/_target.py\u001b[0m in \u001b[0;36mfit\u001b[0;34m(self, X, y, **fit_params)\u001b[0m\n\u001b[1;32m    291\u001b[0m             \u001b[0mrouted_params\u001b[0m \u001b[0;34m=\u001b[0m \u001b[0mBunch\u001b[0m\u001b[0;34m(\u001b[0m\u001b[0mregressor\u001b[0m\u001b[0;34m=\u001b[0m\u001b[0mBunch\u001b[0m\u001b[0;34m(\u001b[0m\u001b[0mfit\u001b[0m\u001b[0;34m=\u001b[0m\u001b[0mfit_params\u001b[0m\u001b[0;34m)\u001b[0m\u001b[0;34m)\u001b[0m\u001b[0;34m\u001b[0m\u001b[0;34m\u001b[0m\u001b[0m\n\u001b[1;32m    292\u001b[0m \u001b[0;34m\u001b[0m\u001b[0m\n\u001b[0;32m--> 293\u001b[0;31m         \u001b[0mself\u001b[0m\u001b[0;34m.\u001b[0m\u001b[0mregressor_\u001b[0m\u001b[0;34m.\u001b[0m\u001b[0mfit\u001b[0m\u001b[0;34m(\u001b[0m\u001b[0mX\u001b[0m\u001b[0;34m,\u001b[0m \u001b[0my_trans\u001b[0m\u001b[0;34m,\u001b[0m \u001b[0;34m**\u001b[0m\u001b[0mrouted_params\u001b[0m\u001b[0;34m.\u001b[0m\u001b[0mregressor\u001b[0m\u001b[0;34m.\u001b[0m\u001b[0mfit\u001b[0m\u001b[0;34m)\u001b[0m\u001b[0;34m\u001b[0m\u001b[0;34m\u001b[0m\u001b[0m\n\u001b[0m\u001b[1;32m    294\u001b[0m \u001b[0;34m\u001b[0m\u001b[0m\n\u001b[1;32m    295\u001b[0m         \u001b[0;32mif\u001b[0m \u001b[0mhasattr\u001b[0m\u001b[0;34m(\u001b[0m\u001b[0mself\u001b[0m\u001b[0;34m.\u001b[0m\u001b[0mregressor_\u001b[0m\u001b[0;34m,\u001b[0m \u001b[0;34m\"feature_names_in_\"\u001b[0m\u001b[0;34m)\u001b[0m\u001b[0;34m:\u001b[0m\u001b[0;34m\u001b[0m\u001b[0;34m\u001b[0m\u001b[0m\n",
      "\u001b[0;32m/opt/anaconda3/lib/python3.9/site-packages/sklearn/base.py\u001b[0m in \u001b[0;36mwrapper\u001b[0;34m(estimator, *args, **kwargs)\u001b[0m\n\u001b[1;32m   1387\u001b[0m                 )\n\u001b[1;32m   1388\u001b[0m             ):\n\u001b[0;32m-> 1389\u001b[0;31m                 \u001b[0;32mreturn\u001b[0m \u001b[0mfit_method\u001b[0m\u001b[0;34m(\u001b[0m\u001b[0mestimator\u001b[0m\u001b[0;34m,\u001b[0m \u001b[0;34m*\u001b[0m\u001b[0margs\u001b[0m\u001b[0;34m,\u001b[0m \u001b[0;34m**\u001b[0m\u001b[0mkwargs\u001b[0m\u001b[0;34m)\u001b[0m\u001b[0;34m\u001b[0m\u001b[0;34m\u001b[0m\u001b[0m\n\u001b[0m\u001b[1;32m   1390\u001b[0m \u001b[0;34m\u001b[0m\u001b[0m\n\u001b[1;32m   1391\u001b[0m         \u001b[0;32mreturn\u001b[0m \u001b[0mwrapper\u001b[0m\u001b[0;34m\u001b[0m\u001b[0;34m\u001b[0m\u001b[0m\n",
      "\u001b[0;32m/opt/anaconda3/lib/python3.9/site-packages/sklearn/pipeline.py\u001b[0m in \u001b[0;36mfit\u001b[0;34m(self, X, y, **params)\u001b[0m\n\u001b[1;32m    660\u001b[0m                     \u001b[0mall_params\u001b[0m\u001b[0;34m=\u001b[0m\u001b[0mparams\u001b[0m\u001b[0;34m,\u001b[0m\u001b[0;34m\u001b[0m\u001b[0;34m\u001b[0m\u001b[0m\n\u001b[1;32m    661\u001b[0m                 )\n\u001b[0;32m--> 662\u001b[0;31m                 \u001b[0mself\u001b[0m\u001b[0;34m.\u001b[0m\u001b[0m_final_estimator\u001b[0m\u001b[0;34m.\u001b[0m\u001b[0mfit\u001b[0m\u001b[0;34m(\u001b[0m\u001b[0mXt\u001b[0m\u001b[0;34m,\u001b[0m \u001b[0my\u001b[0m\u001b[0;34m,\u001b[0m \u001b[0;34m**\u001b[0m\u001b[0mlast_step_params\u001b[0m\u001b[0;34m[\u001b[0m\u001b[0;34m\"fit\"\u001b[0m\u001b[0;34m]\u001b[0m\u001b[0;34m)\u001b[0m\u001b[0;34m\u001b[0m\u001b[0;34m\u001b[0m\u001b[0m\n\u001b[0m\u001b[1;32m    663\u001b[0m \u001b[0;34m\u001b[0m\u001b[0m\n\u001b[1;32m    664\u001b[0m         \u001b[0;32mreturn\u001b[0m \u001b[0mself\u001b[0m\u001b[0;34m\u001b[0m\u001b[0;34m\u001b[0m\u001b[0m\n",
      "\u001b[0;32m/opt/anaconda3/lib/python3.9/site-packages/sklearn/base.py\u001b[0m in \u001b[0;36mwrapper\u001b[0;34m(estimator, *args, **kwargs)\u001b[0m\n\u001b[1;32m   1387\u001b[0m                 )\n\u001b[1;32m   1388\u001b[0m             ):\n\u001b[0;32m-> 1389\u001b[0;31m                 \u001b[0;32mreturn\u001b[0m \u001b[0mfit_method\u001b[0m\u001b[0;34m(\u001b[0m\u001b[0mestimator\u001b[0m\u001b[0;34m,\u001b[0m \u001b[0;34m*\u001b[0m\u001b[0margs\u001b[0m\u001b[0;34m,\u001b[0m \u001b[0;34m**\u001b[0m\u001b[0mkwargs\u001b[0m\u001b[0;34m)\u001b[0m\u001b[0;34m\u001b[0m\u001b[0;34m\u001b[0m\u001b[0m\n\u001b[0m\u001b[1;32m   1390\u001b[0m \u001b[0;34m\u001b[0m\u001b[0m\n\u001b[1;32m   1391\u001b[0m         \u001b[0;32mreturn\u001b[0m \u001b[0mwrapper\u001b[0m\u001b[0;34m\u001b[0m\u001b[0;34m\u001b[0m\u001b[0m\n",
      "\u001b[0;32m/opt/anaconda3/lib/python3.9/site-packages/sklearn/linear_model/_base.py\u001b[0m in \u001b[0;36mfit\u001b[0;34m(self, X, y, sample_weight)\u001b[0m\n\u001b[1;32m    599\u001b[0m         \u001b[0maccept_sparse\u001b[0m \u001b[0;34m=\u001b[0m \u001b[0;32mFalse\u001b[0m \u001b[0;32mif\u001b[0m \u001b[0mself\u001b[0m\u001b[0;34m.\u001b[0m\u001b[0mpositive\u001b[0m \u001b[0;32melse\u001b[0m \u001b[0;34m[\u001b[0m\u001b[0;34m\"csr\"\u001b[0m\u001b[0;34m,\u001b[0m \u001b[0;34m\"csc\"\u001b[0m\u001b[0;34m,\u001b[0m \u001b[0;34m\"coo\"\u001b[0m\u001b[0;34m]\u001b[0m\u001b[0;34m\u001b[0m\u001b[0;34m\u001b[0m\u001b[0m\n\u001b[1;32m    600\u001b[0m \u001b[0;34m\u001b[0m\u001b[0m\n\u001b[0;32m--> 601\u001b[0;31m         X, y = validate_data(\n\u001b[0m\u001b[1;32m    602\u001b[0m             \u001b[0mself\u001b[0m\u001b[0;34m,\u001b[0m\u001b[0;34m\u001b[0m\u001b[0;34m\u001b[0m\u001b[0m\n\u001b[1;32m    603\u001b[0m             \u001b[0mX\u001b[0m\u001b[0;34m,\u001b[0m\u001b[0;34m\u001b[0m\u001b[0;34m\u001b[0m\u001b[0m\n",
      "\u001b[0;32m/opt/anaconda3/lib/python3.9/site-packages/sklearn/utils/validation.py\u001b[0m in \u001b[0;36mvalidate_data\u001b[0;34m(_estimator, X, y, reset, validate_separately, skip_check_array, **check_params)\u001b[0m\n\u001b[1;32m   2959\u001b[0m             \u001b[0my\u001b[0m \u001b[0;34m=\u001b[0m \u001b[0mcheck_array\u001b[0m\u001b[0;34m(\u001b[0m\u001b[0my\u001b[0m\u001b[0;34m,\u001b[0m \u001b[0minput_name\u001b[0m\u001b[0;34m=\u001b[0m\u001b[0;34m\"y\"\u001b[0m\u001b[0;34m,\u001b[0m \u001b[0;34m**\u001b[0m\u001b[0mcheck_y_params\u001b[0m\u001b[0;34m)\u001b[0m\u001b[0;34m\u001b[0m\u001b[0;34m\u001b[0m\u001b[0m\n\u001b[1;32m   2960\u001b[0m         \u001b[0;32melse\u001b[0m\u001b[0;34m:\u001b[0m\u001b[0;34m\u001b[0m\u001b[0;34m\u001b[0m\u001b[0m\n\u001b[0;32m-> 2961\u001b[0;31m             \u001b[0mX\u001b[0m\u001b[0;34m,\u001b[0m \u001b[0my\u001b[0m \u001b[0;34m=\u001b[0m \u001b[0mcheck_X_y\u001b[0m\u001b[0;34m(\u001b[0m\u001b[0mX\u001b[0m\u001b[0;34m,\u001b[0m \u001b[0my\u001b[0m\u001b[0;34m,\u001b[0m \u001b[0;34m**\u001b[0m\u001b[0mcheck_params\u001b[0m\u001b[0;34m)\u001b[0m\u001b[0;34m\u001b[0m\u001b[0;34m\u001b[0m\u001b[0m\n\u001b[0m\u001b[1;32m   2962\u001b[0m         \u001b[0mout\u001b[0m \u001b[0;34m=\u001b[0m \u001b[0mX\u001b[0m\u001b[0;34m,\u001b[0m \u001b[0my\u001b[0m\u001b[0;34m\u001b[0m\u001b[0;34m\u001b[0m\u001b[0m\n\u001b[1;32m   2963\u001b[0m \u001b[0;34m\u001b[0m\u001b[0m\n",
      "\u001b[0;32m/opt/anaconda3/lib/python3.9/site-packages/sklearn/utils/validation.py\u001b[0m in \u001b[0;36mcheck_X_y\u001b[0;34m(X, y, accept_sparse, accept_large_sparse, dtype, order, copy, force_writeable, force_all_finite, ensure_all_finite, ensure_2d, allow_nd, multi_output, ensure_min_samples, ensure_min_features, y_numeric, estimator)\u001b[0m\n\u001b[1;32m   1368\u001b[0m     \u001b[0mensure_all_finite\u001b[0m \u001b[0;34m=\u001b[0m \u001b[0m_deprecate_force_all_finite\u001b[0m\u001b[0;34m(\u001b[0m\u001b[0mforce_all_finite\u001b[0m\u001b[0;34m,\u001b[0m \u001b[0mensure_all_finite\u001b[0m\u001b[0;34m)\u001b[0m\u001b[0;34m\u001b[0m\u001b[0;34m\u001b[0m\u001b[0m\n\u001b[1;32m   1369\u001b[0m \u001b[0;34m\u001b[0m\u001b[0m\n\u001b[0;32m-> 1370\u001b[0;31m     X = check_array(\n\u001b[0m\u001b[1;32m   1371\u001b[0m         \u001b[0mX\u001b[0m\u001b[0;34m,\u001b[0m\u001b[0;34m\u001b[0m\u001b[0;34m\u001b[0m\u001b[0m\n\u001b[1;32m   1372\u001b[0m         \u001b[0maccept_sparse\u001b[0m\u001b[0;34m=\u001b[0m\u001b[0maccept_sparse\u001b[0m\u001b[0;34m,\u001b[0m\u001b[0;34m\u001b[0m\u001b[0;34m\u001b[0m\u001b[0m\n",
      "\u001b[0;32m/opt/anaconda3/lib/python3.9/site-packages/sklearn/utils/validation.py\u001b[0m in \u001b[0;36mcheck_array\u001b[0;34m(array, accept_sparse, accept_large_sparse, dtype, order, copy, force_writeable, force_all_finite, ensure_all_finite, ensure_non_negative, ensure_2d, allow_nd, ensure_min_samples, ensure_min_features, estimator, input_name)\u001b[0m\n\u001b[1;32m   1105\u001b[0m \u001b[0;34m\u001b[0m\u001b[0m\n\u001b[1;32m   1106\u001b[0m         \u001b[0;32mif\u001b[0m \u001b[0mensure_all_finite\u001b[0m\u001b[0;34m:\u001b[0m\u001b[0;34m\u001b[0m\u001b[0;34m\u001b[0m\u001b[0m\n\u001b[0;32m-> 1107\u001b[0;31m             _assert_all_finite(\n\u001b[0m\u001b[1;32m   1108\u001b[0m                 \u001b[0marray\u001b[0m\u001b[0;34m,\u001b[0m\u001b[0;34m\u001b[0m\u001b[0;34m\u001b[0m\u001b[0m\n\u001b[1;32m   1109\u001b[0m                 \u001b[0minput_name\u001b[0m\u001b[0;34m=\u001b[0m\u001b[0minput_name\u001b[0m\u001b[0;34m,\u001b[0m\u001b[0;34m\u001b[0m\u001b[0;34m\u001b[0m\u001b[0m\n",
      "\u001b[0;32m/opt/anaconda3/lib/python3.9/site-packages/sklearn/utils/validation.py\u001b[0m in \u001b[0;36m_assert_all_finite\u001b[0;34m(X, allow_nan, msg_dtype, estimator_name, input_name)\u001b[0m\n\u001b[1;32m    118\u001b[0m         \u001b[0;32mreturn\u001b[0m\u001b[0;34m\u001b[0m\u001b[0;34m\u001b[0m\u001b[0m\n\u001b[1;32m    119\u001b[0m \u001b[0;34m\u001b[0m\u001b[0m\n\u001b[0;32m--> 120\u001b[0;31m     _assert_all_finite_element_wise(\n\u001b[0m\u001b[1;32m    121\u001b[0m         \u001b[0mX\u001b[0m\u001b[0;34m,\u001b[0m\u001b[0;34m\u001b[0m\u001b[0;34m\u001b[0m\u001b[0m\n\u001b[1;32m    122\u001b[0m         \u001b[0mxp\u001b[0m\u001b[0;34m=\u001b[0m\u001b[0mxp\u001b[0m\u001b[0;34m,\u001b[0m\u001b[0;34m\u001b[0m\u001b[0;34m\u001b[0m\u001b[0m\n",
      "\u001b[0;32m/opt/anaconda3/lib/python3.9/site-packages/sklearn/utils/validation.py\u001b[0m in \u001b[0;36m_assert_all_finite_element_wise\u001b[0;34m(X, xp, allow_nan, msg_dtype, estimator_name, input_name)\u001b[0m\n\u001b[1;32m    167\u001b[0m                 \u001b[0;34m\"#estimators-that-handle-nan-values\"\u001b[0m\u001b[0;34m\u001b[0m\u001b[0;34m\u001b[0m\u001b[0m\n\u001b[1;32m    168\u001b[0m             )\n\u001b[0;32m--> 169\u001b[0;31m         \u001b[0;32mraise\u001b[0m \u001b[0mValueError\u001b[0m\u001b[0;34m(\u001b[0m\u001b[0mmsg_err\u001b[0m\u001b[0;34m)\u001b[0m\u001b[0;34m\u001b[0m\u001b[0;34m\u001b[0m\u001b[0m\n\u001b[0m\u001b[1;32m    170\u001b[0m \u001b[0;34m\u001b[0m\u001b[0m\n\u001b[1;32m    171\u001b[0m \u001b[0;34m\u001b[0m\u001b[0m\n",
      "\u001b[0;31mValueError\u001b[0m: Input X contains NaN.\nLinearRegression does not accept missing values encoded as NaN natively. For supervised learning, you might want to consider sklearn.ensemble.HistGradientBoostingClassifier and Regressor which accept missing values encoded as NaNs natively. Alternatively, it is possible to preprocess the data, for instance by using an imputer transformer in a pipeline or drop samples with missing values. See https://scikit-learn.org/stable/modules/impute.html You can find a list of all estimators that handle NaN values at the following page: https://scikit-learn.org/stable/modules/impute.html#estimators-that-handle-nan-values"
     ]
    }
   ],
   "source": [
    "# Fit LR\n",
    "lin_pipe.fit(x_train, y_train)"
   ]
  },
  {
   "cell_type": "code",
   "execution_count": 145,
   "id": "ceb20279-512d-40ff-b069-cde10685ece5",
   "metadata": {},
   "outputs": [
    {
     "ename": "ValueError",
     "evalue": "Input X contains NaN.\nAdaBoostRegressor does not accept missing values encoded as NaN natively. For supervised learning, you might want to consider sklearn.ensemble.HistGradientBoostingClassifier and Regressor which accept missing values encoded as NaNs natively. Alternatively, it is possible to preprocess the data, for instance by using an imputer transformer in a pipeline or drop samples with missing values. See https://scikit-learn.org/stable/modules/impute.html You can find a list of all estimators that handle NaN values at the following page: https://scikit-learn.org/stable/modules/impute.html#estimators-that-handle-nan-values",
     "output_type": "error",
     "traceback": [
      "\u001b[0;31m---------------------------------------------------------------------------\u001b[0m",
      "\u001b[0;31mValueError\u001b[0m                                Traceback (most recent call last)",
      "\u001b[0;32m/var/folders/xd/k9ytlnfx6zdgdrgw2l_grb780000gp/T/ipykernel_1439/431194725.py\u001b[0m in \u001b[0;36m<module>\u001b[0;34m\u001b[0m\n\u001b[1;32m      1\u001b[0m \u001b[0;31m# Fit Ada\u001b[0m\u001b[0;34m\u001b[0m\u001b[0;34m\u001b[0m\u001b[0m\n\u001b[0;32m----> 2\u001b[0;31m \u001b[0mada_pipe\u001b[0m\u001b[0;34m.\u001b[0m\u001b[0mfit\u001b[0m\u001b[0;34m(\u001b[0m\u001b[0mx_train\u001b[0m\u001b[0;34m,\u001b[0m \u001b[0my_train\u001b[0m\u001b[0;34m)\u001b[0m\u001b[0;34m\u001b[0m\u001b[0;34m\u001b[0m\u001b[0m\n\u001b[0m",
      "\u001b[0;32m/opt/anaconda3/lib/python3.9/site-packages/sklearn/base.py\u001b[0m in \u001b[0;36mwrapper\u001b[0;34m(estimator, *args, **kwargs)\u001b[0m\n\u001b[1;32m   1387\u001b[0m                 )\n\u001b[1;32m   1388\u001b[0m             ):\n\u001b[0;32m-> 1389\u001b[0;31m                 \u001b[0;32mreturn\u001b[0m \u001b[0mfit_method\u001b[0m\u001b[0;34m(\u001b[0m\u001b[0mestimator\u001b[0m\u001b[0;34m,\u001b[0m \u001b[0;34m*\u001b[0m\u001b[0margs\u001b[0m\u001b[0;34m,\u001b[0m \u001b[0;34m**\u001b[0m\u001b[0mkwargs\u001b[0m\u001b[0;34m)\u001b[0m\u001b[0;34m\u001b[0m\u001b[0;34m\u001b[0m\u001b[0m\n\u001b[0m\u001b[1;32m   1390\u001b[0m \u001b[0;34m\u001b[0m\u001b[0m\n\u001b[1;32m   1391\u001b[0m         \u001b[0;32mreturn\u001b[0m \u001b[0mwrapper\u001b[0m\u001b[0;34m\u001b[0m\u001b[0;34m\u001b[0m\u001b[0m\n",
      "\u001b[0;32m/opt/anaconda3/lib/python3.9/site-packages/sklearn/compose/_target.py\u001b[0m in \u001b[0;36mfit\u001b[0;34m(self, X, y, **fit_params)\u001b[0m\n\u001b[1;32m    291\u001b[0m             \u001b[0mrouted_params\u001b[0m \u001b[0;34m=\u001b[0m \u001b[0mBunch\u001b[0m\u001b[0;34m(\u001b[0m\u001b[0mregressor\u001b[0m\u001b[0;34m=\u001b[0m\u001b[0mBunch\u001b[0m\u001b[0;34m(\u001b[0m\u001b[0mfit\u001b[0m\u001b[0;34m=\u001b[0m\u001b[0mfit_params\u001b[0m\u001b[0;34m)\u001b[0m\u001b[0;34m)\u001b[0m\u001b[0;34m\u001b[0m\u001b[0;34m\u001b[0m\u001b[0m\n\u001b[1;32m    292\u001b[0m \u001b[0;34m\u001b[0m\u001b[0m\n\u001b[0;32m--> 293\u001b[0;31m         \u001b[0mself\u001b[0m\u001b[0;34m.\u001b[0m\u001b[0mregressor_\u001b[0m\u001b[0;34m.\u001b[0m\u001b[0mfit\u001b[0m\u001b[0;34m(\u001b[0m\u001b[0mX\u001b[0m\u001b[0;34m,\u001b[0m \u001b[0my_trans\u001b[0m\u001b[0;34m,\u001b[0m \u001b[0;34m**\u001b[0m\u001b[0mrouted_params\u001b[0m\u001b[0;34m.\u001b[0m\u001b[0mregressor\u001b[0m\u001b[0;34m.\u001b[0m\u001b[0mfit\u001b[0m\u001b[0;34m)\u001b[0m\u001b[0;34m\u001b[0m\u001b[0;34m\u001b[0m\u001b[0m\n\u001b[0m\u001b[1;32m    294\u001b[0m \u001b[0;34m\u001b[0m\u001b[0m\n\u001b[1;32m    295\u001b[0m         \u001b[0;32mif\u001b[0m \u001b[0mhasattr\u001b[0m\u001b[0;34m(\u001b[0m\u001b[0mself\u001b[0m\u001b[0;34m.\u001b[0m\u001b[0mregressor_\u001b[0m\u001b[0;34m,\u001b[0m \u001b[0;34m\"feature_names_in_\"\u001b[0m\u001b[0;34m)\u001b[0m\u001b[0;34m:\u001b[0m\u001b[0;34m\u001b[0m\u001b[0;34m\u001b[0m\u001b[0m\n",
      "\u001b[0;32m/opt/anaconda3/lib/python3.9/site-packages/sklearn/base.py\u001b[0m in \u001b[0;36mwrapper\u001b[0;34m(estimator, *args, **kwargs)\u001b[0m\n\u001b[1;32m   1387\u001b[0m                 )\n\u001b[1;32m   1388\u001b[0m             ):\n\u001b[0;32m-> 1389\u001b[0;31m                 \u001b[0;32mreturn\u001b[0m \u001b[0mfit_method\u001b[0m\u001b[0;34m(\u001b[0m\u001b[0mestimator\u001b[0m\u001b[0;34m,\u001b[0m \u001b[0;34m*\u001b[0m\u001b[0margs\u001b[0m\u001b[0;34m,\u001b[0m \u001b[0;34m**\u001b[0m\u001b[0mkwargs\u001b[0m\u001b[0;34m)\u001b[0m\u001b[0;34m\u001b[0m\u001b[0;34m\u001b[0m\u001b[0m\n\u001b[0m\u001b[1;32m   1390\u001b[0m \u001b[0;34m\u001b[0m\u001b[0m\n\u001b[1;32m   1391\u001b[0m         \u001b[0;32mreturn\u001b[0m \u001b[0mwrapper\u001b[0m\u001b[0;34m\u001b[0m\u001b[0;34m\u001b[0m\u001b[0m\n",
      "\u001b[0;32m/opt/anaconda3/lib/python3.9/site-packages/sklearn/pipeline.py\u001b[0m in \u001b[0;36mfit\u001b[0;34m(self, X, y, **params)\u001b[0m\n\u001b[1;32m    660\u001b[0m                     \u001b[0mall_params\u001b[0m\u001b[0;34m=\u001b[0m\u001b[0mparams\u001b[0m\u001b[0;34m,\u001b[0m\u001b[0;34m\u001b[0m\u001b[0;34m\u001b[0m\u001b[0m\n\u001b[1;32m    661\u001b[0m                 )\n\u001b[0;32m--> 662\u001b[0;31m                 \u001b[0mself\u001b[0m\u001b[0;34m.\u001b[0m\u001b[0m_final_estimator\u001b[0m\u001b[0;34m.\u001b[0m\u001b[0mfit\u001b[0m\u001b[0;34m(\u001b[0m\u001b[0mXt\u001b[0m\u001b[0;34m,\u001b[0m \u001b[0my\u001b[0m\u001b[0;34m,\u001b[0m \u001b[0;34m**\u001b[0m\u001b[0mlast_step_params\u001b[0m\u001b[0;34m[\u001b[0m\u001b[0;34m\"fit\"\u001b[0m\u001b[0;34m]\u001b[0m\u001b[0;34m)\u001b[0m\u001b[0;34m\u001b[0m\u001b[0;34m\u001b[0m\u001b[0m\n\u001b[0m\u001b[1;32m    663\u001b[0m \u001b[0;34m\u001b[0m\u001b[0m\n\u001b[1;32m    664\u001b[0m         \u001b[0;32mreturn\u001b[0m \u001b[0mself\u001b[0m\u001b[0;34m\u001b[0m\u001b[0;34m\u001b[0m\u001b[0m\n",
      "\u001b[0;32m/opt/anaconda3/lib/python3.9/site-packages/sklearn/base.py\u001b[0m in \u001b[0;36mwrapper\u001b[0;34m(estimator, *args, **kwargs)\u001b[0m\n\u001b[1;32m   1387\u001b[0m                 )\n\u001b[1;32m   1388\u001b[0m             ):\n\u001b[0;32m-> 1389\u001b[0;31m                 \u001b[0;32mreturn\u001b[0m \u001b[0mfit_method\u001b[0m\u001b[0;34m(\u001b[0m\u001b[0mestimator\u001b[0m\u001b[0;34m,\u001b[0m \u001b[0;34m*\u001b[0m\u001b[0margs\u001b[0m\u001b[0;34m,\u001b[0m \u001b[0;34m**\u001b[0m\u001b[0mkwargs\u001b[0m\u001b[0;34m)\u001b[0m\u001b[0;34m\u001b[0m\u001b[0;34m\u001b[0m\u001b[0m\n\u001b[0m\u001b[1;32m   1390\u001b[0m \u001b[0;34m\u001b[0m\u001b[0m\n\u001b[1;32m   1391\u001b[0m         \u001b[0;32mreturn\u001b[0m \u001b[0mwrapper\u001b[0m\u001b[0;34m\u001b[0m\u001b[0;34m\u001b[0m\u001b[0m\n",
      "\u001b[0;32m/opt/anaconda3/lib/python3.9/site-packages/sklearn/ensemble/_weight_boosting.py\u001b[0m in \u001b[0;36mfit\u001b[0;34m(self, X, y, sample_weight)\u001b[0m\n\u001b[1;32m    128\u001b[0m         \"\"\"\n\u001b[1;32m    129\u001b[0m         \u001b[0m_raise_for_unsupported_routing\u001b[0m\u001b[0;34m(\u001b[0m\u001b[0mself\u001b[0m\u001b[0;34m,\u001b[0m \u001b[0;34m\"fit\"\u001b[0m\u001b[0;34m,\u001b[0m \u001b[0msample_weight\u001b[0m\u001b[0;34m=\u001b[0m\u001b[0msample_weight\u001b[0m\u001b[0;34m)\u001b[0m\u001b[0;34m\u001b[0m\u001b[0;34m\u001b[0m\u001b[0m\n\u001b[0;32m--> 130\u001b[0;31m         X, y = validate_data(\n\u001b[0m\u001b[1;32m    131\u001b[0m             \u001b[0mself\u001b[0m\u001b[0;34m,\u001b[0m\u001b[0;34m\u001b[0m\u001b[0;34m\u001b[0m\u001b[0m\n\u001b[1;32m    132\u001b[0m             \u001b[0mX\u001b[0m\u001b[0;34m,\u001b[0m\u001b[0;34m\u001b[0m\u001b[0;34m\u001b[0m\u001b[0m\n",
      "\u001b[0;32m/opt/anaconda3/lib/python3.9/site-packages/sklearn/utils/validation.py\u001b[0m in \u001b[0;36mvalidate_data\u001b[0;34m(_estimator, X, y, reset, validate_separately, skip_check_array, **check_params)\u001b[0m\n\u001b[1;32m   2959\u001b[0m             \u001b[0my\u001b[0m \u001b[0;34m=\u001b[0m \u001b[0mcheck_array\u001b[0m\u001b[0;34m(\u001b[0m\u001b[0my\u001b[0m\u001b[0;34m,\u001b[0m \u001b[0minput_name\u001b[0m\u001b[0;34m=\u001b[0m\u001b[0;34m\"y\"\u001b[0m\u001b[0;34m,\u001b[0m \u001b[0;34m**\u001b[0m\u001b[0mcheck_y_params\u001b[0m\u001b[0;34m)\u001b[0m\u001b[0;34m\u001b[0m\u001b[0;34m\u001b[0m\u001b[0m\n\u001b[1;32m   2960\u001b[0m         \u001b[0;32melse\u001b[0m\u001b[0;34m:\u001b[0m\u001b[0;34m\u001b[0m\u001b[0;34m\u001b[0m\u001b[0m\n\u001b[0;32m-> 2961\u001b[0;31m             \u001b[0mX\u001b[0m\u001b[0;34m,\u001b[0m \u001b[0my\u001b[0m \u001b[0;34m=\u001b[0m \u001b[0mcheck_X_y\u001b[0m\u001b[0;34m(\u001b[0m\u001b[0mX\u001b[0m\u001b[0;34m,\u001b[0m \u001b[0my\u001b[0m\u001b[0;34m,\u001b[0m \u001b[0;34m**\u001b[0m\u001b[0mcheck_params\u001b[0m\u001b[0;34m)\u001b[0m\u001b[0;34m\u001b[0m\u001b[0;34m\u001b[0m\u001b[0m\n\u001b[0m\u001b[1;32m   2962\u001b[0m         \u001b[0mout\u001b[0m \u001b[0;34m=\u001b[0m \u001b[0mX\u001b[0m\u001b[0;34m,\u001b[0m \u001b[0my\u001b[0m\u001b[0;34m\u001b[0m\u001b[0;34m\u001b[0m\u001b[0m\n\u001b[1;32m   2963\u001b[0m \u001b[0;34m\u001b[0m\u001b[0m\n",
      "\u001b[0;32m/opt/anaconda3/lib/python3.9/site-packages/sklearn/utils/validation.py\u001b[0m in \u001b[0;36mcheck_X_y\u001b[0;34m(X, y, accept_sparse, accept_large_sparse, dtype, order, copy, force_writeable, force_all_finite, ensure_all_finite, ensure_2d, allow_nd, multi_output, ensure_min_samples, ensure_min_features, y_numeric, estimator)\u001b[0m\n\u001b[1;32m   1368\u001b[0m     \u001b[0mensure_all_finite\u001b[0m \u001b[0;34m=\u001b[0m \u001b[0m_deprecate_force_all_finite\u001b[0m\u001b[0;34m(\u001b[0m\u001b[0mforce_all_finite\u001b[0m\u001b[0;34m,\u001b[0m \u001b[0mensure_all_finite\u001b[0m\u001b[0;34m)\u001b[0m\u001b[0;34m\u001b[0m\u001b[0;34m\u001b[0m\u001b[0m\n\u001b[1;32m   1369\u001b[0m \u001b[0;34m\u001b[0m\u001b[0m\n\u001b[0;32m-> 1370\u001b[0;31m     X = check_array(\n\u001b[0m\u001b[1;32m   1371\u001b[0m         \u001b[0mX\u001b[0m\u001b[0;34m,\u001b[0m\u001b[0;34m\u001b[0m\u001b[0;34m\u001b[0m\u001b[0m\n\u001b[1;32m   1372\u001b[0m         \u001b[0maccept_sparse\u001b[0m\u001b[0;34m=\u001b[0m\u001b[0maccept_sparse\u001b[0m\u001b[0;34m,\u001b[0m\u001b[0;34m\u001b[0m\u001b[0;34m\u001b[0m\u001b[0m\n",
      "\u001b[0;32m/opt/anaconda3/lib/python3.9/site-packages/sklearn/utils/validation.py\u001b[0m in \u001b[0;36mcheck_array\u001b[0;34m(array, accept_sparse, accept_large_sparse, dtype, order, copy, force_writeable, force_all_finite, ensure_all_finite, ensure_non_negative, ensure_2d, allow_nd, ensure_min_samples, ensure_min_features, estimator, input_name)\u001b[0m\n\u001b[1;32m   1105\u001b[0m \u001b[0;34m\u001b[0m\u001b[0m\n\u001b[1;32m   1106\u001b[0m         \u001b[0;32mif\u001b[0m \u001b[0mensure_all_finite\u001b[0m\u001b[0;34m:\u001b[0m\u001b[0;34m\u001b[0m\u001b[0;34m\u001b[0m\u001b[0m\n\u001b[0;32m-> 1107\u001b[0;31m             _assert_all_finite(\n\u001b[0m\u001b[1;32m   1108\u001b[0m                 \u001b[0marray\u001b[0m\u001b[0;34m,\u001b[0m\u001b[0;34m\u001b[0m\u001b[0;34m\u001b[0m\u001b[0m\n\u001b[1;32m   1109\u001b[0m                 \u001b[0minput_name\u001b[0m\u001b[0;34m=\u001b[0m\u001b[0minput_name\u001b[0m\u001b[0;34m,\u001b[0m\u001b[0;34m\u001b[0m\u001b[0;34m\u001b[0m\u001b[0m\n",
      "\u001b[0;32m/opt/anaconda3/lib/python3.9/site-packages/sklearn/utils/validation.py\u001b[0m in \u001b[0;36m_assert_all_finite\u001b[0;34m(X, allow_nan, msg_dtype, estimator_name, input_name)\u001b[0m\n\u001b[1;32m    118\u001b[0m         \u001b[0;32mreturn\u001b[0m\u001b[0;34m\u001b[0m\u001b[0;34m\u001b[0m\u001b[0m\n\u001b[1;32m    119\u001b[0m \u001b[0;34m\u001b[0m\u001b[0m\n\u001b[0;32m--> 120\u001b[0;31m     _assert_all_finite_element_wise(\n\u001b[0m\u001b[1;32m    121\u001b[0m         \u001b[0mX\u001b[0m\u001b[0;34m,\u001b[0m\u001b[0;34m\u001b[0m\u001b[0;34m\u001b[0m\u001b[0m\n\u001b[1;32m    122\u001b[0m         \u001b[0mxp\u001b[0m\u001b[0;34m=\u001b[0m\u001b[0mxp\u001b[0m\u001b[0;34m,\u001b[0m\u001b[0;34m\u001b[0m\u001b[0;34m\u001b[0m\u001b[0m\n",
      "\u001b[0;32m/opt/anaconda3/lib/python3.9/site-packages/sklearn/utils/validation.py\u001b[0m in \u001b[0;36m_assert_all_finite_element_wise\u001b[0;34m(X, xp, allow_nan, msg_dtype, estimator_name, input_name)\u001b[0m\n\u001b[1;32m    167\u001b[0m                 \u001b[0;34m\"#estimators-that-handle-nan-values\"\u001b[0m\u001b[0;34m\u001b[0m\u001b[0;34m\u001b[0m\u001b[0m\n\u001b[1;32m    168\u001b[0m             )\n\u001b[0;32m--> 169\u001b[0;31m         \u001b[0;32mraise\u001b[0m \u001b[0mValueError\u001b[0m\u001b[0;34m(\u001b[0m\u001b[0mmsg_err\u001b[0m\u001b[0;34m)\u001b[0m\u001b[0;34m\u001b[0m\u001b[0;34m\u001b[0m\u001b[0m\n\u001b[0m\u001b[1;32m    170\u001b[0m \u001b[0;34m\u001b[0m\u001b[0m\n\u001b[1;32m    171\u001b[0m \u001b[0;34m\u001b[0m\u001b[0m\n",
      "\u001b[0;31mValueError\u001b[0m: Input X contains NaN.\nAdaBoostRegressor does not accept missing values encoded as NaN natively. For supervised learning, you might want to consider sklearn.ensemble.HistGradientBoostingClassifier and Regressor which accept missing values encoded as NaNs natively. Alternatively, it is possible to preprocess the data, for instance by using an imputer transformer in a pipeline or drop samples with missing values. See https://scikit-learn.org/stable/modules/impute.html You can find a list of all estimators that handle NaN values at the following page: https://scikit-learn.org/stable/modules/impute.html#estimators-that-handle-nan-values"
     ]
    }
   ],
   "source": [
    "# Fit Ada\n",
    "ada_pipe.fit(x_train, y_train)"
   ]
  },
  {
   "cell_type": "code",
   "execution_count": null,
   "id": "959f4bd7-d0f4-411f-b6d8-2561b8d80d0d",
   "metadata": {},
   "outputs": [],
   "source": [
    "# Fit Extra\n",
    "exra_pipe.fit(x_train, y_train)"
   ]
  }
 ],
 "metadata": {
  "kernelspec": {
   "display_name": "Python 3 (ipykernel)",
   "language": "python",
   "name": "python3"
  },
  "language_info": {
   "codemirror_mode": {
    "name": "ipython",
    "version": 3
   },
   "file_extension": ".py",
   "mimetype": "text/x-python",
   "name": "python",
   "nbconvert_exporter": "python",
   "pygments_lexer": "ipython3",
   "version": "3.9.13"
  }
 },
 "nbformat": 4,
 "nbformat_minor": 5
}
