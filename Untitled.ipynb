{
 "cells": [
  {
   "cell_type": "markdown",
   "id": "8b42159c-3407-4304-ad12-0ff300bcbd4c",
   "metadata": {},
   "source": [
    "### Methodology\n",
    "\n",
    "The methodology we will be deploying for this our analysis is called the CRIP-DM(Cross industry standard process for data mining) methodology;\n",
    "\n",
    "1. Business Understanding\n",
    "2. Data Understanding\n",
    "3. Data Preparation.\n",
    "4. Data Modelling\n",
    "5. Model Evaluation and \n",
    "6. Model Deployment"
   ]
  },
  {
   "cell_type": "markdown",
   "id": "d7ba83a1-e60c-44d9-a042-502f96b81bff",
   "metadata": {},
   "source": [
    "### Import Required Libraries"
   ]
  },
  {
   "cell_type": "code",
   "execution_count": 1,
   "id": "5f93c734-13b0-4a2a-a3c0-828ca48a7191",
   "metadata": {},
   "outputs": [],
   "source": [
    "import pandas as pd\n",
    "import numpy as np\n",
    "import matplotlib.pyplot as plt\n",
    "import seaborn as sns"
   ]
  },
  {
   "cell_type": "code",
   "execution_count": null,
   "id": "42d1ff63-ead8-44f3-833a-1c486ce09a71",
   "metadata": {},
   "outputs": [],
   "source": []
  }
 ],
 "metadata": {
  "kernelspec": {
   "display_name": "Python 3 (ipykernel)",
   "language": "python",
   "name": "python3"
  },
  "language_info": {
   "codemirror_mode": {
    "name": "ipython",
    "version": 3
   },
   "file_extension": ".py",
   "mimetype": "text/x-python",
   "name": "python",
   "nbconvert_exporter": "python",
   "pygments_lexer": "ipython3",
   "version": "3.9.13"
  }
 },
 "nbformat": 4,
 "nbformat_minor": 5
}
